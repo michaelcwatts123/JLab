{
 "cells": [
  {
   "cell_type": "markdown",
   "metadata": {},
   "source": [
    "<h1>Lab One: Understanding Table Data</h1>\n",
    "<b>By Michael Watts </b>"
   ]
  },
  {
   "cell_type": "markdown",
   "metadata": {},
   "source": [
    "<h2>Part 1: Business Understanding </h2>\n",
    "\n",
    "This is a data set of payment information provided by New York companies in the public sector. According to the Kaggle page, these companies are legally required to provide this data in accordance with Section 2800 of Public Authorities Law. It includes various types of payment such as salary, overtime, performance, extra forms of compensation, etc. The payment information is divided between five industrial categories, operational, administrative and clerical, technical and engineering, professional, managerial, and executive. It also has more defining items for the individual employees such as if they are full or part time or paid by the state government for their work, not a company.  \n",
    "\n",
    "The goal of my data analytics is to determine how much and in what ways an employee should be compensated based on his or her category and full time status in the public sector of New York. This information would be helpful for both companies and employees in the public and private sector. For companies in the public sector, this data would inform them what they have to pay various working categories to stay competitive, that is offer comparable pay to the rest of that industry. Likewise, for employees, this data would inform them based on their group and full time status if they are being paid at competitive level at their current job. This is especially helpful because discussing salary among or between employees is considered taboo in the workforce. This can leave employees comparative sense of how much they are being paid relative to the industry. It would also inform private sector companies how much they must be willing to pay various groups to convince them to transition over from public to private sector work, or how much they must pay their own employees to stop the inverse transition from happening. Similarly, this informs private sector employees of an average comparable salary if they transitioned into the public sector. \n",
    "\n",
    "To measure the success of my algorithm, we would need further data. According to a Retensa, a company focused on improving the retention rates at companies, 64% of public sector industry leaders across the country have issues with retention. Assuming this as the average, companies in New York could adjust their pay according to my analysis. After this we could survey companies and see if the amount of companies fearing employee turnover is less than the average provided by Reensa. If it is, we could assume my payment rates are competitive enough to encourage the majority of employees to stay.  \n",
    "<hr>\n",
    "Kaggle Dataset Link: https://www.kaggle.com/new-york-state/nys-salary-information-for-the-public-sector\n",
    "\n",
    "Retensa Employment Link: https://retensa.com/clients/clients-by-industry/retain-government-employees/"
   ]
  },
  {
   "cell_type": "markdown",
   "metadata": {},
   "source": [
    "<h1>Part 2: Data Understanding </h1>"
   ]
  },
  {
   "cell_type": "code",
   "execution_count": 1,
   "metadata": {},
   "outputs": [
    {
     "name": "stdout",
     "output_type": "stream",
     "text": [
      "<class 'pandas.core.frame.DataFrame'>\n",
      "RangeIndex: 2156 entries, 0 to 2155\n",
      "Data columns (total 20 columns):\n",
      "Authority Name                       2156 non-null object\n",
      "Fiscal Year End Date                 2156 non-null object\n",
      "Has Employees                        110 non-null object\n",
      "Last Name                            2046 non-null object\n",
      "Middle Initial                       803 non-null object\n",
      "First Name                           2046 non-null object\n",
      "Title                                2046 non-null object\n",
      "Group                                2046 non-null object\n",
      "Department                           342 non-null object\n",
      "Pay Type                             2046 non-null object\n",
      "Exempt Indicator                     2046 non-null object\n",
      "Base Annualized Salary               2046 non-null float64\n",
      "Actual Salary Paid                   2046 non-null float64\n",
      "Overtime Paid                        2046 non-null float64\n",
      "Performance Bonus                    2046 non-null float64\n",
      "Extra Pay                            2046 non-null float64\n",
      "Other Compensation                   2046 non-null float64\n",
      "Total Compensation                   2046 non-null float64\n",
      "Paid By Another Entity               2046 non-null object\n",
      "Paid by State or Local Government    430 non-null object\n",
      "dtypes: float64(7), object(13)\n",
      "memory usage: 337.0+ KB\n"
     ]
    }
   ],
   "source": [
    "# load the employee dataset\n",
    "import pandas as pd\n",
    "import numpy as np\n",
    "import warnings\n",
    "\n",
    "#read in and describe the data set\n",
    "dataFrame = pd.read_csv('salary-information-for-industrial-development-agencies.csv') \n",
    "dataFrame.info()\n"
   ]
  },
  {
   "cell_type": "markdown",
   "metadata": {},
   "source": [
    "So we can see, most data is shoved into a simple non null object and there appears to be a huge amount of missing data, sometimes as many as 2046 entries missing. Let’s see if we cannot make this data a little cleaner and more usable. First, we can remove any row that has a “Y” value for “Paid by Another Entity” or “Paid by State or Local Government.” This data is valid and important, but since we are concerned with how public sector businesses compensate their employees, we do not care about employees that are not compensated by their business. We can also remove any row of data that has a “N” in the “Has Employees” column. If there is no \"N\" we assume the data has been provided for that row. These business do not have to report their information to the state of New York and therefore have no data tied to them. The lack of any other data tied to company makes imputing unknown data difficult and likely ineffective due to the large amount of data needed to be imputed. They also according to the kaggle page, represent only 5% of the data of this set, and thus can be safely ignored.    \n"
   ]
  },
  {
   "cell_type": "code",
   "execution_count": 2,
   "metadata": {},
   "outputs": [
    {
     "name": "stdout",
     "output_type": "stream",
     "text": [
      "<class 'pandas.core.frame.DataFrame'>\n",
      "Int64Index: 1333 entries, 25 to 2155\n",
      "Data columns (total 20 columns):\n",
      "Authority Name            1333 non-null object\n",
      "Fiscal Year End Date      1333 non-null object\n",
      "hasValidData              0 non-null object\n",
      "Last Name                 1333 non-null object\n",
      "Middle Initial            597 non-null object\n",
      "First Name                1333 non-null object\n",
      "Title                     1333 non-null object\n",
      "Group                     1333 non-null object\n",
      "Department                202 non-null object\n",
      "Pay Type                  1333 non-null object\n",
      "Exempt Indicator          1333 non-null object\n",
      "Base Annualized Salary    1333 non-null float64\n",
      "Actual Salary Paid        1333 non-null float64\n",
      "Overtime Paid             1333 non-null float64\n",
      "Performance Bonus         1333 non-null float64\n",
      "Extra Pay                 1333 non-null float64\n",
      "Other Compensation        1333 non-null float64\n",
      "Total Compensation        1333 non-null float64\n",
      "paidByAnother             1333 non-null object\n",
      "paidByAnother2            0 non-null object\n",
      "dtypes: float64(7), object(13)\n",
      "memory usage: 218.7+ KB\n"
     ]
    }
   ],
   "source": [
    "#give the data we are parsing out simplier names for the sake of removing \n",
    "dataFrame = dataFrame.rename(columns = {'Paid By Another Entity': 'paidByAnother', 'Paid by State or Local Government': 'paidByAnother2', 'Has Employees': 'hasValidData'})\n",
    "dataFrame = dataFrame[dataFrame.paidByAnother != 'Y']\n",
    "dataFrame = dataFrame[dataFrame.paidByAnother2 != 'Y']\n",
    "dataFrame = dataFrame[dataFrame.hasValidData != 'N']\n",
    "#now lets take a look at our data\n",
    "dataFrame.info()\n"
   ]
  },
  {
   "cell_type": "markdown",
   "metadata": {},
   "source": [
    "Next we will remove some data columns, which while important to the survey as a whole, are not important for our purposes of accurately estimating employee group compensation values. “hasValidData”, “paidByAnother”, and “paidByAnother2” have all already served their purpose of removing invalid data and can be removed. We can also remove any data involving names such as “Last Name”, “Middle Initial”, “First Name”, \"Title\", and “Authority Name”. Since we are not focusing on specific people or companies but rather groups, this information is unnecessary. We can also remove “Department.” While this value would be helpful in grouping employees by career, we already have the much better column “Group” for that. Group is better because it is standardized for the data set, not just a string value assigned by the employer. “Group” is also far more present, having no missing entries, relative to the “Department” column’s 1131 missing entries. The \"Exempt Indicator\" can also be removed. This column has to do with labor laws and is not relevant to our question.\n"
   ]
  },
  {
   "cell_type": "code",
   "execution_count": 3,
   "metadata": {},
   "outputs": [
    {
     "name": "stdout",
     "output_type": "stream",
     "text": [
      "<class 'pandas.core.frame.DataFrame'>\n",
      "Int64Index: 1333 entries, 25 to 2155\n",
      "Data columns (total 10 columns):\n",
      "Fiscal Year End Date      1333 non-null object\n",
      "Group                     1333 non-null object\n",
      "Pay Type                  1333 non-null object\n",
      "Base Annualized Salary    1333 non-null float64\n",
      "Actual Salary Paid        1333 non-null float64\n",
      "Overtime Paid             1333 non-null float64\n",
      "Performance Bonus         1333 non-null float64\n",
      "Extra Pay                 1333 non-null float64\n",
      "Other Compensation        1333 non-null float64\n",
      "Total Compensation        1333 non-null float64\n",
      "dtypes: float64(7), object(3)\n",
      "memory usage: 114.6+ KB\n"
     ]
    }
   ],
   "source": [
    "#rename columns to make them easier to work with\n",
    "dataFrame = dataFrame.rename(columns = {'Authority Name': 'aName', 'Last Name': 'lName', \n",
    "                                        'Middle Initial': 'mi', \n",
    "                                        'First Name':'fName', 'Exempt Indicator': 'ei'})\n",
    "#delete columns as prior stated\n",
    "dataFrame.drop(columns=['hasValidData', 'paidByAnother', 'paidByAnother2', 'aName', 'lName', 'mi', \n",
    "                        'fName', 'Title', 'ei', 'Department'], inplace=True)\n",
    "dataFrame.info()"
   ]
  },
  {
   "cell_type": "markdown",
   "metadata": {},
   "source": [
    "Now that we have stripped away excess data, let’s encode the data we have into something more useful than just objects and floats. First, we can convert the date. The year range for this survey according to kaggle is 2011 to 2016. So we can encode the years starting with 2011 = 0, 2012 = 1, …, 2016 = 5. \n"
   ]
  },
  {
   "cell_type": "code",
   "execution_count": 4,
   "metadata": {},
   "outputs": [
    {
     "name": "stdout",
     "output_type": "stream",
     "text": [
      "<class 'pandas.core.frame.DataFrame'>\n",
      "Int64Index: 1333 entries, 25 to 2155\n",
      "Data columns (total 10 columns):\n",
      "Year                      1333 non-null int64\n",
      "Group                     1333 non-null object\n",
      "Pay Type                  1333 non-null object\n",
      "Base Annualized Salary    1333 non-null float64\n",
      "Actual Salary Paid        1333 non-null float64\n",
      "Overtime Paid             1333 non-null float64\n",
      "Performance Bonus         1333 non-null float64\n",
      "Extra Pay                 1333 non-null float64\n",
      "Other Compensation        1333 non-null float64\n",
      "Total Compensation        1333 non-null float64\n",
      "dtypes: float64(7), int64(1), object(2)\n",
      "memory usage: 114.6+ KB\n"
     ]
    }
   ],
   "source": [
    "#rename column to make easier to work with\n",
    "dataFrame = dataFrame.rename(columns = {'Fiscal Year End Date':'Year'})\n",
    "#convert datatype from strings to date objects\n",
    "dataFrame['Year'] = dataFrame['Year'].astype(np.datetime64)\n",
    "# grabs the year from the date object and sets it to our scale\n",
    "def setYearData(x):\n",
    "    \n",
    "    x = x.year\n",
    "    if (x == 2011):\n",
    "        return 0\n",
    "    if (x == 2012):\n",
    "        return 1\n",
    "    if (x == 2013):\n",
    "        return 2\n",
    "    if (x == 2014):\n",
    "        return 3\n",
    "    if (x == 2015):\n",
    "        return 4\n",
    "    if (x == 2016):\n",
    "        return 5\n",
    "#sets the date to be simply the year\n",
    "dataFrame['Year'] = dataFrame['Year'].apply(setYearData)\n",
    "cluster_df = dataFrame.copy()\n",
    "#now lets look at our data set\n",
    "dataFrame.info()\n"
   ]
  },
  {
   "cell_type": "markdown",
   "metadata": {},
   "source": [
    "Now our dates are divided on year scale! Next, let's encode our groups."
   ]
  },
  {
   "cell_type": "code",
   "execution_count": 5,
   "metadata": {},
   "outputs": [
    {
     "data": {
      "text/html": [
       "<div>\n",
       "<style scoped>\n",
       "    .dataframe tbody tr th:only-of-type {\n",
       "        vertical-align: middle;\n",
       "    }\n",
       "\n",
       "    .dataframe tbody tr th {\n",
       "        vertical-align: top;\n",
       "    }\n",
       "\n",
       "    .dataframe thead th {\n",
       "        text-align: right;\n",
       "    }\n",
       "</style>\n",
       "<table border=\"1\" class=\"dataframe\">\n",
       "  <thead>\n",
       "    <tr style=\"text-align: right;\">\n",
       "      <th></th>\n",
       "      <th>Group_Administrative/Clerical</th>\n",
       "      <th>Group_Executive</th>\n",
       "      <th>Group_Managerial</th>\n",
       "      <th>Group_Operational</th>\n",
       "      <th>Group_Professional</th>\n",
       "      <th>Group_Technical/Engineering</th>\n",
       "    </tr>\n",
       "  </thead>\n",
       "  <tbody>\n",
       "    <tr>\n",
       "      <th>25</th>\n",
       "      <td>0</td>\n",
       "      <td>0</td>\n",
       "      <td>1</td>\n",
       "      <td>0</td>\n",
       "      <td>0</td>\n",
       "      <td>0</td>\n",
       "    </tr>\n",
       "    <tr>\n",
       "      <th>26</th>\n",
       "      <td>0</td>\n",
       "      <td>0</td>\n",
       "      <td>1</td>\n",
       "      <td>0</td>\n",
       "      <td>0</td>\n",
       "      <td>0</td>\n",
       "    </tr>\n",
       "    <tr>\n",
       "      <th>27</th>\n",
       "      <td>0</td>\n",
       "      <td>0</td>\n",
       "      <td>0</td>\n",
       "      <td>0</td>\n",
       "      <td>1</td>\n",
       "      <td>0</td>\n",
       "    </tr>\n",
       "    <tr>\n",
       "      <th>28</th>\n",
       "      <td>0</td>\n",
       "      <td>0</td>\n",
       "      <td>1</td>\n",
       "      <td>0</td>\n",
       "      <td>0</td>\n",
       "      <td>0</td>\n",
       "    </tr>\n",
       "    <tr>\n",
       "      <th>29</th>\n",
       "      <td>0</td>\n",
       "      <td>0</td>\n",
       "      <td>1</td>\n",
       "      <td>0</td>\n",
       "      <td>0</td>\n",
       "      <td>0</td>\n",
       "    </tr>\n",
       "  </tbody>\n",
       "</table>\n",
       "</div>"
      ],
      "text/plain": [
       "    Group_Administrative/Clerical  Group_Executive  Group_Managerial  \\\n",
       "25                              0                0                 1   \n",
       "26                              0                0                 1   \n",
       "27                              0                0                 0   \n",
       "28                              0                0                 1   \n",
       "29                              0                0                 1   \n",
       "\n",
       "    Group_Operational  Group_Professional  Group_Technical/Engineering  \n",
       "25                  0                   0                            0  \n",
       "26                  0                   0                            0  \n",
       "27                  0                   1                            0  \n",
       "28                  0                   0                            0  \n",
       "29                  0                   0                            0  "
      ]
     },
     "execution_count": 5,
     "metadata": {},
     "output_type": "execute_result"
    }
   ],
   "source": [
    "#create encoding\n",
    "tempPDF = pd.get_dummies(dataFrame['Group'],prefix='Group')\n",
    "#show encoding\n",
    "tempPDF.head()"
   ]
  },
  {
   "cell_type": "code",
   "execution_count": 6,
   "metadata": {},
   "outputs": [
    {
     "name": "stdout",
     "output_type": "stream",
     "text": [
      "<class 'pandas.core.frame.DataFrame'>\n",
      "Int64Index: 1333 entries, 25 to 2155\n",
      "Data columns (total 15 columns):\n",
      "Year                             1333 non-null int64\n",
      "Pay Type                         1333 non-null object\n",
      "Base Annualized Salary           1333 non-null float64\n",
      "Actual Salary Paid               1333 non-null float64\n",
      "Overtime Paid                    1333 non-null float64\n",
      "Performance Bonus                1333 non-null float64\n",
      "Extra Pay                        1333 non-null float64\n",
      "Other Compensation               1333 non-null float64\n",
      "Total Compensation               1333 non-null float64\n",
      "Group_Administrative/Clerical    1333 non-null uint8\n",
      "Group_Executive                  1333 non-null uint8\n",
      "Group_Managerial                 1333 non-null uint8\n",
      "Group_Operational                1333 non-null uint8\n",
      "Group_Professional               1333 non-null uint8\n",
      "Group_Technical/Engineering      1333 non-null uint8\n",
      "dtypes: float64(7), int64(1), object(1), uint8(6)\n",
      "memory usage: 112.0+ KB\n"
     ]
    }
   ],
   "source": [
    "#now add the encoded category into the dataframe and drop the old group\n",
    "dataFrame = pd.concat([dataFrame,pd.get_dummies(dataFrame['Group'], prefix='Group')],axis=1)\n",
    "dataFrame.drop(columns = ['Group'], inplace = True)\n",
    "dataFrame.info()       \n",
    "                  "
   ]
  },
  {
   "cell_type": "markdown",
   "metadata": {},
   "source": [
    "Next we change the \"Pay Type\" column from an object to an encoded binary. Since employees can only be either Full Time (represented as \"FT\" in the data) or Part Time (represented as \"PT\" in the data), we can encode FT to be 0 and PT to be 1.\n",
    "<table>\n",
    "    Pay Type Encoding:\n",
    "    <tbody>\n",
    "        <tr><td>Full Time:</td> <td>0</td><tr>\n",
    "        <tr><td>Part Time:</td> <td>1</td><tr>\n",
    "    </tbody>\n",
    "</table>"
   ]
  },
  {
   "cell_type": "code",
   "execution_count": 7,
   "metadata": {},
   "outputs": [
    {
     "name": "stdout",
     "output_type": "stream",
     "text": [
      "<class 'pandas.core.frame.DataFrame'>\n",
      "Int64Index: 1333 entries, 25 to 2155\n",
      "Data columns (total 15 columns):\n",
      "Year                             1333 non-null int64\n",
      "payType                          1333 non-null int64\n",
      "Base Annualized Salary           1333 non-null float64\n",
      "Actual Salary Paid               1333 non-null float64\n",
      "Overtime Paid                    1333 non-null float64\n",
      "Performance Bonus                1333 non-null float64\n",
      "Extra Pay                        1333 non-null float64\n",
      "Other Compensation               1333 non-null float64\n",
      "Total Compensation               1333 non-null float64\n",
      "Group_Administrative/Clerical    1333 non-null uint8\n",
      "Group_Executive                  1333 non-null uint8\n",
      "Group_Managerial                 1333 non-null uint8\n",
      "Group_Operational                1333 non-null uint8\n",
      "Group_Professional               1333 non-null uint8\n",
      "Group_Technical/Engineering      1333 non-null uint8\n",
      "dtypes: float64(7), int64(2), uint8(6)\n",
      "memory usage: 112.0 KB\n"
     ]
    }
   ],
   "source": [
    "#rename column to make easier to work with\n",
    "dataFrame = dataFrame.rename(columns = {'Pay Type':'payType'})\n",
    "#define a function to convert the values \n",
    "def convertPayType(x):\n",
    "    \n",
    "    if x == 'FT':\n",
    "        return 0\n",
    "    if x == 'PT':\n",
    "        return 1\n",
    "\n",
    "#convert the pay types to our binary\n",
    "dataFrame['payType'] = dataFrame['payType'].apply(convertPayType)\n",
    "#now lets look at our data set\n",
    "dataFrame.info()    \n"
   ]
  },
  {
   "cell_type": "markdown",
   "metadata": {},
   "source": [
    "All of the remaining data is salary information, which can for our purposes be left as a floating point number. This will enable us to use it to find averages and deviations across groups, years, etc.\n",
    "\n",
    "We are not missing any data. However, if we were, we could impute it. For example, if we were missing “Actual Salary Paid” for a row, we could group the data by the “Group” data we have encoded and “Year” data, and estimate the salary using either the median or average per group per year. \n"
   ]
  },
  {
   "cell_type": "markdown",
   "metadata": {},
   "source": [
    "# Extra Analysis: Clustering Based on Numerical Features\n",
    "There are 6 different kinds of employee groups this dataset covers.  It's possible that someone looking for employment in a different field than their own will have little knowledge of the offerings in other fields, and only know what they would like their pay to be, if they want to be paid overtime or receive a bonus, etc.  The goal here is to see if we can successfully cluster these groups based on the numerical features in the dataset."
   ]
  },
  {
   "cell_type": "code",
   "execution_count": 8,
   "metadata": {},
   "outputs": [
    {
     "name": "stdout",
     "output_type": "stream",
     "text": [
      "<class 'pandas.core.frame.DataFrame'>\n",
      "Int64Index: 1333 entries, 25 to 2155\n",
      "Data columns (total 9 columns):\n",
      "Year                      1333 non-null int64\n",
      "Pay Type                  1333 non-null int64\n",
      "Base Annualized Salary    1333 non-null float64\n",
      "Actual Salary Paid        1333 non-null float64\n",
      "Overtime Paid             1333 non-null float64\n",
      "Performance Bonus         1333 non-null float64\n",
      "Extra Pay                 1333 non-null float64\n",
      "Other Compensation        1333 non-null float64\n",
      "Total Compensation        1333 non-null float64\n",
      "dtypes: float64(7), int64(2)\n",
      "memory usage: 104.1 KB\n"
     ]
    }
   ],
   "source": [
    "from sklearn.cluster import KMeans\n",
    "group_mapping = {'Administrative/Clerical': 0, 'Executive': 1, 'Managerial': 2, 'Operational': 3, 'Professional': 4, 'Technical/Engineering': 5}\n",
    "cluster_df.replace({'Pay Type' : {'FT': 0, 'PT': 1}, \n",
    "                    'Group' : group_mapping}, inplace=True)\n",
    "cluster_label = pd.DataFrame(cluster_df['Group'].values, columns=['Actual Label'])\n",
    "cluster_df.drop(columns=['Group'], inplace=True)\n",
    "cluster_df.info()"
   ]
  },
  {
   "cell_type": "code",
   "execution_count": 13,
   "metadata": {},
   "outputs": [
    {
     "data": {
      "text/plain": [
       "Actual Label  Predicted Label\n",
       "0             0                  151\n",
       "              1                   25\n",
       "              2                  213\n",
       "              3                   74\n",
       "              5                    1\n",
       "1             0                  110\n",
       "              1                  102\n",
       "              2                   42\n",
       "              3                   85\n",
       "              4                   37\n",
       "              5                   71\n",
       "2             0                   36\n",
       "              1                   22\n",
       "              2                   25\n",
       "              3                   40\n",
       "              5                    8\n",
       "3             0                   33\n",
       "              1                    2\n",
       "              2                   13\n",
       "              3                   29\n",
       "4             0                   30\n",
       "              1                   43\n",
       "              2                   33\n",
       "              3                   76\n",
       "              5                    1\n",
       "5             0                   12\n",
       "              2                    3\n",
       "              3                   16\n",
       "dtype: int64"
      ]
     },
     "execution_count": 13,
     "metadata": {},
     "output_type": "execute_result"
    }
   ],
   "source": [
    "kmeans = KMeans(n_clusters=6).fit(cluster_df.values)\n",
    "cluster_label['Predicted Label'] = kmeans.labels_\n",
    "cluster_label.groupby(['Actual Label', 'Predicted Label']).size()"
   ]
  },
  {
   "cell_type": "markdown",
   "metadata": {},
   "source": [
    "Based on these distributions, it doesn't seem like k means did a particularly good job grouping the data points in a way that would reflect the group they're in.  If that were the case, there would be less variance in predicted labels within actual labels or a greater proportion of a predicted label in each group.  Let's look at how the groups look in terms of Base Annualized Salary and Year."
   ]
  },
  {
   "cell_type": "code",
   "execution_count": 21,
   "metadata": {},
   "outputs": [
    {
     "data": {
      "text/plain": [
       "<matplotlib.collections.PathCollection at 0x208ed279fd0>"
      ]
     },
     "execution_count": 21,
     "metadata": {},
     "output_type": "execute_result"
    },
    {
     "data": {
      "image/png": "[encoded data removed]",
      "text/plain": [
       "<Figure size 432x288 with 1 Axes>"
      ]
     },
     "metadata": {},
     "output_type": "display_data"
    }
   ],
   "source": [
    "import matplotlib.pyplot as plt\n",
    "plt.scatter(cluster_df[\"Base Annualized Salary\"].values, cluster_df[\"Year\"].values, c=cluster_label['Predicted Label'].values)"
   ]
  },
  {
   "cell_type": "markdown",
   "metadata": {},
   "source": [
    "The clusters appear to correspond to intervals of the base salary.  Other features such as actual salary paid and total compensation correlate, so it makes sense that the algorithm would group the points in such a way.  In addition, other features such as Overtime Paid and Performance Bonus are only greater than 0 for a small percentage of the dataset.  In conclusion, information about pay alone is not enough to determine the employment group."
   ]
  }
 ],
 "metadata": {
  "kernelspec": {
   "display_name": "Python 3",
   "language": "python",
   "name": "python3"
  },
  "language_info": {
   "codemirror_mode": {
    "name": "ipython",
    "version": 3
   },
   "file_extension": ".py",
   "mimetype": "text/x-python",
   "name": "python",
   "nbconvert_exporter": "python",
   "pygments_lexer": "ipython3",
   "version": "3.6.5"
  }
 },
 "nbformat": 4,
 "nbformat_minor": 2
}
