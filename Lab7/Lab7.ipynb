{
 "cells": [
  {
   "cell_type": "code",
   "execution_count": 1,
   "metadata": {},
   "outputs": [],
   "source": [
    "import numpy as np\n",
    "import pandas as pd\n",
    "import matplotlib.pyplot as plt\n",
    "import seaborn as sns\n",
    "import sklearn as skl\n",
    "import pickle\n",
    "import warnings\n",
    "from sklearn.metrics import accuracy_score"
   ]
  },
  {
   "cell_type": "code",
   "execution_count": 2,
   "metadata": {},
   "outputs": [
    {
     "data": {
      "text/html": [
       "<div>\n",
       "<style scoped>\n",
       "    .dataframe tbody tr th:only-of-type {\n",
       "        vertical-align: middle;\n",
       "    }\n",
       "\n",
       "    .dataframe tbody tr th {\n",
       "        vertical-align: top;\n",
       "    }\n",
       "\n",
       "    .dataframe thead th {\n",
       "        text-align: right;\n",
       "    }\n",
       "</style>\n",
       "<table border=\"1\" class=\"dataframe\">\n",
       "  <thead>\n",
       "    <tr style=\"text-align: right;\">\n",
       "      <th></th>\n",
       "      <th>file</th>\n",
       "      <th>message</th>\n",
       "    </tr>\n",
       "  </thead>\n",
       "  <tbody>\n",
       "    <tr>\n",
       "      <th>0</th>\n",
       "      <td>allen-p/_sent_mail/1.</td>\n",
       "      <td>Message-ID: &lt;18782981.1075855378110.JavaMail.e...</td>\n",
       "    </tr>\n",
       "    <tr>\n",
       "      <th>1</th>\n",
       "      <td>allen-p/_sent_mail/10.</td>\n",
       "      <td>Message-ID: &lt;15464986.1075855378456.JavaMail.e...</td>\n",
       "    </tr>\n",
       "    <tr>\n",
       "      <th>2</th>\n",
       "      <td>allen-p/_sent_mail/100.</td>\n",
       "      <td>Message-ID: &lt;24216240.1075855687451.JavaMail.e...</td>\n",
       "    </tr>\n",
       "    <tr>\n",
       "      <th>3</th>\n",
       "      <td>allen-p/_sent_mail/1000.</td>\n",
       "      <td>Message-ID: &lt;13505866.1075863688222.JavaMail.e...</td>\n",
       "    </tr>\n",
       "    <tr>\n",
       "      <th>4</th>\n",
       "      <td>allen-p/_sent_mail/1001.</td>\n",
       "      <td>Message-ID: &lt;30922949.1075863688243.JavaMail.e...</td>\n",
       "    </tr>\n",
       "  </tbody>\n",
       "</table>\n",
       "</div>"
      ],
      "text/plain": [
       "                       file                                            message\n",
       "0     allen-p/_sent_mail/1.  Message-ID: <18782981.1075855378110.JavaMail.e...\n",
       "1    allen-p/_sent_mail/10.  Message-ID: <15464986.1075855378456.JavaMail.e...\n",
       "2   allen-p/_sent_mail/100.  Message-ID: <24216240.1075855687451.JavaMail.e...\n",
       "3  allen-p/_sent_mail/1000.  Message-ID: <13505866.1075863688222.JavaMail.e...\n",
       "4  allen-p/_sent_mail/1001.  Message-ID: <30922949.1075863688243.JavaMail.e..."
      ]
     },
     "execution_count": 2,
     "metadata": {},
     "output_type": "execute_result"
    }
   ],
   "source": [
    "emails_df = pd.read_csv(\"data/emails.csv\")\n",
    "emails_df.head()"
   ]
  },
  {
   "cell_type": "code",
   "execution_count": 3,
   "metadata": {},
   "outputs": [
    {
     "data": {
      "text/plain": [
       "kaminski-v    28465\n",
       "dasovich-j    28234\n",
       "kean-s        25351\n",
       "mann-k        23381\n",
       "jones-t       19950\n",
       "Name: source, dtype: int64"
      ]
     },
     "execution_count": 3,
     "metadata": {},
     "output_type": "execute_result"
    }
   ],
   "source": [
    "#print(emails_df['message'][8])\n",
    "import re\n",
    "def filter_fn(item):\n",
    "    if item == '' or item == ' ':\n",
    "        return False\n",
    "    return True\n",
    "def parse_email(item):\n",
    "    findall = re.findall(\"From: .+.com\\n\", item)\n",
    "    if len(findall) > 0:\n",
    "        return findall[0].split(' ')[1].strip()\n",
    "    else:\n",
    "        return None\n",
    "#print('\\n'.join(list(filter(filter_fn, emails_df['message'][x].split('X-FileName:')[1].split('\\n')))[1:]))\n",
    "#emails_df['message'] = emails_df['message'].apply(lambda x: '\\n'.join(list(filter(filter_fn, x.split('X-FileName:')[1].split('\\n')))[1:]))\n",
    "emails_df['source'] = emails_df['file'].apply(lambda x: x.split('/', 1)[0])\n",
    "emails_df['source'].value_counts()[0:5]"
   ]
  },
  {
   "cell_type": "code",
   "execution_count": 4,
   "metadata": {},
   "outputs": [
    {
     "data": {
      "text/plain": [
       "kay.mann@enron.com          16658\n",
       "vince.kaminski@enron.com    14335\n",
       "jeff.dasovich@enron.com     10874\n",
       "tana.jones@enron.com         7960\n",
       "steven.kean@enron.com        6709\n",
       "Name: source_email, dtype: int64"
      ]
     },
     "execution_count": 4,
     "metadata": {},
     "output_type": "execute_result"
    }
   ],
   "source": [
    "top_five_sources = emails_df['source'].value_counts()[0:5].index.tolist() # Display top 5 email senders\n",
    "emails_df = emails_df[emails_df['source'].isin(top_five_sources)].reset_index()\n",
    "sources = emails_df['source'].unique()\n",
    "source_dict = dict(zip(sources, range(len(sources))))\n",
    "emails_df = emails_df.applymap(lambda s: source_dict.get(s) if s in source_dict else s)\n",
    "emails_df['source_email'] = emails_df['message'].apply(lambda x: parse_email(x))\n",
    "emails_df['source_email'].value_counts()[0:5]"
   ]
  },
  {
   "cell_type": "code",
   "execution_count": 5,
   "metadata": {},
   "outputs": [],
   "source": [
    "def remove_names(input_str, name_list):\n",
    "    filename = '' if len(re.findall(\"(?<=X-FileName: )\\w+\\.[\\w]{3}\", input_str)) == 0 else re.findall(\"(?<=X-FileName: )\\w+\\.[\\w]{3}\", input_str)[0] \n",
    "    if filename is not '':\n",
    "        input_str = input_str.split(filename)[-1]\n",
    "    for name in name_list:\n",
    "        input_str = input_str.replace(name[0], '')\n",
    "        input_str = input_str.replace(name[1], '')\n",
    "    return input_str\n",
    "top_emails = emails_df['source_email'].value_counts()[0:5].index.tolist()\n",
    "parsed_names = [(x.split('@')[0].split('.')[0].capitalize(), x.split('@')[0].split('.')[1].capitalize()) for x in top_emails]\n",
    "#emails_df['message'] = emails_df['message'].apply(lambda x: remove_names(x, parsed_names))"
   ]
  },
  {
   "cell_type": "code",
   "execution_count": 6,
   "metadata": {},
   "outputs": [
    {
     "name": "stderr",
     "output_type": "stream",
     "text": [
      "C:\\Users\\mayam\\Anaconda3\\lib\\site-packages\\h5py\\__init__.py:36: FutureWarning: Conversion of the second argument of issubdtype from `float` to `np.floating` is deprecated. In future, it will be treated as `np.float64 == np.dtype(float).type`.\n",
      "  from ._conv import register_converters as _register_converters\n",
      "Using TensorFlow backend.\n"
     ]
    }
   ],
   "source": [
    "import keras\n",
    "from keras.preprocessing.text import Tokenizer\n",
    "from keras.preprocessing.sequence import pad_sequences\n",
    "NUM_TOP_WORDS = None\n",
    "MAX_ART_LEN = 300 # maximum and minimum number of words\n",
    "\n",
    "tokenizer = Tokenizer(num_words=NUM_TOP_WORDS)\n",
    "tokenizer.fit_on_texts(emails_df['message'])\n",
    "sequences = tokenizer.texts_to_sequences(emails_df['message'])"
   ]
  },
  {
   "cell_type": "code",
   "execution_count": 7,
   "metadata": {},
   "outputs": [
    {
     "name": "stdout",
     "output_type": "stream",
     "text": [
      "Found 455561 unique tokens. Distilled to 455561 top words.\n",
      "Shape of data tensor: (125381, 300)\n",
      "455555\n"
     ]
    }
   ],
   "source": [
    "word_index = tokenizer.word_index\n",
    "NUM_TOP_WORDS = len(word_index) if NUM_TOP_WORDS==None else NUM_TOP_WORDS\n",
    "top_words = min((len(word_index),NUM_TOP_WORDS))\n",
    "print('Found %s unique tokens. Distilled to %d top words.' % (len(word_index),top_words))\n",
    "\n",
    "X = pad_sequences(sequences, maxlen=MAX_ART_LEN)\n",
    "\n",
    "y = emails_df['source']\n",
    "\n",
    "print('Shape of data tensor:', X.shape)\n",
    "#print('Shape of label tensor:', y_ohe.shape)\n",
    "print(np.max(X))"
   ]
  },
  {
   "cell_type": "code",
   "execution_count": 9,
   "metadata": {},
   "outputs": [
    {
     "name": "stdout",
     "output_type": "stream",
     "text": [
      "(100304, 300) (100304, 5)\n",
      "[22587. 15960. 22772. 20280. 18705.]\n"
     ]
    }
   ],
   "source": [
    "from sklearn.model_selection import train_test_split\n",
    "# Split it into train / test subsets\n",
    "X_train, X_test, y_train, y_test = train_test_split(X, y, test_size=0.2,\n",
    "                                                            stratify=emails_df['source'], \n",
    "                                                            random_state=42)\n",
    "y_train_ohe = keras.utils.to_categorical(y_train)\n",
    "y_test_ohe = keras.utils.to_categorical(y_test)\n",
    "NUM_CLASSES = 5\n",
    "print(X_train.shape,y_train_ohe.shape)\n",
    "print(np.sum(y_train_ohe,axis=0))"
   ]
  },
  {
   "cell_type": "code",
   "execution_count": 10,
   "metadata": {},
   "outputs": [],
   "source": [
    "# show example without the FOR loop\n",
    "from keras.models import Sequential, Input, Model\n",
    "from keras.layers import Dense\n",
    "from keras.layers import SimpleRNN\n",
    "from keras.layers.embeddings import Embedding\n",
    "\n",
    "\n",
    "EMBED_SIZE = 50\n",
    "rnns = []\n",
    "input_holder = Input(shape=(X_train.shape[1], ))\n",
    "input_embed = Embedding(top_words + 1, # input dimension (max int of OHE)\n",
    "                EMBED_SIZE, # output dimension size\n",
    "                input_length=MAX_ART_LEN)(input_holder) # number of words in each sequence\n",
    "\n",
    "\n",
    "x = SimpleRNN(25,dropout=0.2, recurrent_dropout=0.2)(input_embed)\n",
    "x = Dense(NUM_CLASSES, activation='sigmoid')(x)\n",
    "rnn=Model(inputs=input_holder,outputs=x)\n",
    "rnn.compile(loss='binary_crossentropy', \n",
    "              optimizer='rmsprop', \n",
    "              metrics=['accuracy'])"
   ]
  },
  {
   "cell_type": "code",
   "execution_count": 11,
   "metadata": {},
   "outputs": [],
   "source": [
    "from keras.models import Sequential, Input, Model\n",
    "from keras.layers import Dense\n",
    "from keras.layers import LSTM, GRU, SimpleRNN\n",
    "from keras.layers.embeddings import Embedding\n",
    "\n",
    "EMBED_SIZE = 50\n",
    "rnns = []\n",
    "input_holder = Input(shape=(X_train.shape[1], ))\n",
    "shared_embed = Embedding(top_words + 1, # input dimension (max int of OHE)\n",
    "                EMBED_SIZE, # output dimension size\n",
    "                input_length=MAX_ART_LEN)(input_holder) # number of words in each sequence\n",
    "\n",
    "for func in [SimpleRNN, LSTM, GRU]:\n",
    "    \n",
    "    x = func(50, dropout=0.2, recurrent_dropout=0.2)(shared_embed)\n",
    "    x = Dense(NUM_CLASSES, activation='sigmoid')(x)\n",
    "    rnn=Model(inputs=input_holder,outputs=x)\n",
    "    rnn.compile(loss='binary_crossentropy', \n",
    "                  optimizer='rmsprop', \n",
    "                  metrics=['accuracy'])\n",
    "    rnns.append(rnn)"
   ]
  },
  {
   "cell_type": "code",
   "execution_count": 13,
   "metadata": {},
   "outputs": [
    {
     "name": "stdout",
     "output_type": "stream",
     "text": [
      "======= simple ========\n",
      "Train on 100304 samples, validate on 25077 samples\n",
      "Epoch 1/3\n",
      "100304/100304 [==============================] - 456s 5ms/step - loss: 0.3367 - acc: 0.8614 - val_loss: 0.2462 - val_acc: 0.8981\n",
      "Epoch 2/3\n",
      "100304/100304 [==============================] - 463s 5ms/step - loss: 0.2219 - acc: 0.9100 - val_loss: 0.1872 - val_acc: 0.9254\n",
      "Epoch 3/3\n",
      "100304/100304 [==============================] - 511s 5ms/step - loss: 0.1762 - acc: 0.9319 - val_loss: 0.1538 - val_acc: 0.9398\n",
      "======= lstm ========\n",
      "Train on 100304 samples, validate on 25077 samples\n",
      "Epoch 1/3\n",
      "100304/100304 [==============================] - 773s 8ms/step - loss: 0.1726 - acc: 0.9324 - val_loss: 0.0784 - val_acc: 0.9721\n",
      "Epoch 2/3\n",
      "100304/100304 [==============================] - 737s 7ms/step - loss: 0.0708 - acc: 0.9741 - val_loss: 0.0560 - val_acc: 0.9796\n",
      "Epoch 3/3\n",
      "100304/100304 [==============================] - 747s 7ms/step - loss: 0.0481 - acc: 0.9819 - val_loss: 0.0417 - val_acc: 0.9837\n",
      "======= gru ========\n",
      "Train on 100304 samples, validate on 25077 samples\n",
      "Epoch 1/3\n",
      "100304/100304 [==============================] - 683s 7ms/step - loss: 0.1073 - acc: 0.9594 - val_loss: 0.0386 - val_acc: 0.9849\n",
      "Epoch 2/3\n",
      "100304/100304 [==============================] - 665s 7ms/step - loss: 0.0339 - acc: 0.9869 - val_loss: 0.0324 - val_acc: 0.9873\n",
      "Epoch 3/3\n",
      "100304/100304 [==============================] - 641s 6ms/step - loss: 0.0273 - acc: 0.9898 - val_loss: 0.0290 - val_acc: 0.9890\n"
     ]
    }
   ],
   "source": [
    "for rnn, name in zip(rnns,['simple','lstm','gru']):\n",
    "    print('=======',name,'========')\n",
    "    rnn.fit(X_train, y_train_ohe, epochs=3, batch_size=64, validation_data=(X_test, y_test_ohe))"
   ]
  },
  {
   "cell_type": "code",
   "execution_count": 14,
   "metadata": {},
   "outputs": [
    {
     "name": "stdout",
     "output_type": "stream",
     "text": [
      "Round 2 training, simple ========\n",
      "Train on 100304 samples, validate on 25077 samples\n",
      "Epoch 1/3\n",
      "100304/100304 [==============================] - 461s 5ms/step - loss: 0.1639 - acc: 0.9378 - val_loss: 0.1249 - val_acc: 0.9549\n",
      "Epoch 2/3\n",
      "100304/100304 [==============================] - 465s 5ms/step - loss: 0.1285 - acc: 0.9533 - val_loss: 0.1092 - val_acc: 0.9619\n",
      "Epoch 3/3\n",
      "100304/100304 [==============================] - 471s 5ms/step - loss: 0.1142 - acc: 0.9594 - val_loss: 0.0995 - val_acc: 0.9657\n",
      "Round 2 training, lstm ========\n",
      "Train on 100304 samples, validate on 25077 samples\n",
      "Epoch 1/3\n",
      "100304/100304 [==============================] - 694s 7ms/step - loss: 0.0343 - acc: 0.9875 - val_loss: 0.0326 - val_acc: 0.9882\n",
      "Epoch 2/3\n",
      "100304/100304 [==============================] - 698s 7ms/step - loss: 0.0262 - acc: 0.9904 - val_loss: 0.0287 - val_acc: 0.9895\n",
      "Epoch 3/3\n",
      "100304/100304 [==============================] - 699s 7ms/step - loss: 0.0229 - acc: 0.9915 - val_loss: 0.0275 - val_acc: 0.9902\n",
      "Round 2 training, gru ========\n",
      "Train on 100304 samples, validate on 25077 samples\n",
      "Epoch 1/3\n",
      "100304/100304 [==============================] - 646s 6ms/step - loss: 0.0228 - acc: 0.9917 - val_loss: 0.0271 - val_acc: 0.9901\n",
      "Epoch 2/3\n",
      "100304/100304 [==============================] - 651s 6ms/step - loss: 0.0205 - acc: 0.9926 - val_loss: 0.0264 - val_acc: 0.9903\n",
      "Epoch 3/3\n",
      "100304/100304 [==============================] - 649s 6ms/step - loss: 0.0194 - acc: 0.9928 - val_loss: 0.0257 - val_acc: 0.9907\n"
     ]
    }
   ],
   "source": [
    "for rnn, name in zip(rnns,['simple','lstm','gru']):\n",
    "    print('Round 2 training,',name,'========')\n",
    "    rnn.fit(X_train, y_train_ohe, epochs=3, batch_size=64, validation_data=(X_test, y_test_ohe))"
   ]
  },
  {
   "cell_type": "code",
   "execution_count": 27,
   "metadata": {},
   "outputs": [
    {
     "data": {
      "text/plain": [
       "Text(0.5,1,'RNN: 0.9762435947285554')"
      ]
     },
     "execution_count": 27,
     "metadata": {},
     "output_type": "execute_result"
    },
    {
     "data": {
      "image/png": "[encoded data removed]",
      "text/plain": [
       "<Figure size 432x288 with 2 Axes>"
      ]
     },
     "metadata": {},
     "output_type": "display_data"
    }
   ],
   "source": [
    "yhat_rnn = np.argmax(rnn.predict(X_test), axis=1)\n",
    "f_rnn = mt.f1_score(y_test.values,yhat_rnn, average= 'weighted')\n",
    "cm = mt.confusion_matrix(y_test.values,yhat_rnn)\n",
    "cm = cm/np.sum(cm,axis=1)[:,np.newaxis]\n",
    "sns.heatmap(cm, annot=True, fmt='.2f')\n",
    "plt.title('RNN: '+str(f_rnn))"
   ]
  },
  {
   "cell_type": "code",
   "execution_count": null,
   "metadata": {},
   "outputs": [],
   "source": []
  }
 ],
 "metadata": {
  "kernelspec": {
   "display_name": "Python 3",
   "language": "python",
   "name": "python3"
  },
  "language_info": {
   "codemirror_mode": {
    "name": "ipython",
    "version": 3
   },
   "file_extension": ".py",
   "mimetype": "text/x-python",
   "name": "python",
   "nbconvert_exporter": "python",
   "pygments_lexer": "ipython3",
   "version": "3.6.5"
  }
 },
 "nbformat": 4,
 "nbformat_minor": 2
}
