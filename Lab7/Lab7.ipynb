{
 "cells": [
  {
   "cell_type": "code",
   "execution_count": 33,
   "metadata": {},
   "outputs": [],
   "source": [
    "import numpy as np\n",
    "import pandas as pd\n",
    "import matplotlib.pyplot as plt\n",
    "import seaborn as sns\n",
    "import sklearn as skl\n",
    "import pickle\n",
    "import warnings\n",
    "from sklearn.metrics import accuracy_score"
   ]
  },
  {
   "cell_type": "code",
   "execution_count": 34,
   "metadata": {},
   "outputs": [
    {
     "data": {
      "text/html": [
       "<div>\n",
       "<style scoped>\n",
       "    .dataframe tbody tr th:only-of-type {\n",
       "        vertical-align: middle;\n",
       "    }\n",
       "\n",
       "    .dataframe tbody tr th {\n",
       "        vertical-align: top;\n",
       "    }\n",
       "\n",
       "    .dataframe thead th {\n",
       "        text-align: right;\n",
       "    }\n",
       "</style>\n",
       "<table border=\"1\" class=\"dataframe\">\n",
       "  <thead>\n",
       "    <tr style=\"text-align: right;\">\n",
       "      <th></th>\n",
       "      <th>file</th>\n",
       "      <th>message</th>\n",
       "    </tr>\n",
       "  </thead>\n",
       "  <tbody>\n",
       "    <tr>\n",
       "      <th>0</th>\n",
       "      <td>allen-p/_sent_mail/1.</td>\n",
       "      <td>Message-ID: &lt;18782981.1075855378110.JavaMail.e...</td>\n",
       "    </tr>\n",
       "    <tr>\n",
       "      <th>1</th>\n",
       "      <td>allen-p/_sent_mail/10.</td>\n",
       "      <td>Message-ID: &lt;15464986.1075855378456.JavaMail.e...</td>\n",
       "    </tr>\n",
       "    <tr>\n",
       "      <th>2</th>\n",
       "      <td>allen-p/_sent_mail/100.</td>\n",
       "      <td>Message-ID: &lt;24216240.1075855687451.JavaMail.e...</td>\n",
       "    </tr>\n",
       "    <tr>\n",
       "      <th>3</th>\n",
       "      <td>allen-p/_sent_mail/1000.</td>\n",
       "      <td>Message-ID: &lt;13505866.1075863688222.JavaMail.e...</td>\n",
       "    </tr>\n",
       "    <tr>\n",
       "      <th>4</th>\n",
       "      <td>allen-p/_sent_mail/1001.</td>\n",
       "      <td>Message-ID: &lt;30922949.1075863688243.JavaMail.e...</td>\n",
       "    </tr>\n",
       "  </tbody>\n",
       "</table>\n",
       "</div>"
      ],
      "text/plain": [
       "                       file                                            message\n",
       "0     allen-p/_sent_mail/1.  Message-ID: <18782981.1075855378110.JavaMail.e...\n",
       "1    allen-p/_sent_mail/10.  Message-ID: <15464986.1075855378456.JavaMail.e...\n",
       "2   allen-p/_sent_mail/100.  Message-ID: <24216240.1075855687451.JavaMail.e...\n",
       "3  allen-p/_sent_mail/1000.  Message-ID: <13505866.1075863688222.JavaMail.e...\n",
       "4  allen-p/_sent_mail/1001.  Message-ID: <30922949.1075863688243.JavaMail.e..."
      ]
     },
     "execution_count": 34,
     "metadata": {},
     "output_type": "execute_result"
    }
   ],
   "source": [
    "emails_df = pd.read_csv(\"data/emails.csv\")\n",
    "emails_df.head()"
   ]
  },
  {
   "cell_type": "code",
   "execution_count": 35,
   "metadata": {},
   "outputs": [
    {
     "data": {
      "text/plain": [
       "kaminski-v    28465\n",
       "dasovich-j    28234\n",
       "kean-s        25351\n",
       "mann-k        23381\n",
       "jones-t       19950\n",
       "Name: source, dtype: int64"
      ]
     },
     "execution_count": 35,
     "metadata": {},
     "output_type": "execute_result"
    }
   ],
   "source": [
    "#print(emails_df['message'][8])\n",
    "import re\n",
    "def filter_fn(item):\n",
    "    if item == '' or item == ' ':\n",
    "        return False\n",
    "    return True\n",
    "def parse_email(item):\n",
    "    findall = re.findall(\"From: .+.com\\n\", item)\n",
    "    if len(findall) > 0:\n",
    "        return findall[0].split(' ')[1].strip()\n",
    "    else:\n",
    "        return None\n",
    "#print('\\n'.join(list(filter(filter_fn, emails_df['message'][x].split('X-FileName:')[1].split('\\n')))[1:]))\n",
    "#emails_df['message'] = emails_df['message'].apply(lambda x: '\\n'.join(list(filter(filter_fn, x.split('X-FileName:')[1].split('\\n')))[1:]))\n",
    "emails_df['source'] = emails_df['file'].apply(lambda x: x.split('/', 1)[0])\n",
    "emails_df['source'].value_counts()[0:5]"
   ]
  },
  {
   "cell_type": "code",
   "execution_count": 36,
   "metadata": {},
   "outputs": [
    {
     "data": {
      "text/plain": [
       "kay.mann@enron.com          16658\n",
       "vince.kaminski@enron.com    14335\n",
       "jeff.dasovich@enron.com     10874\n",
       "tana.jones@enron.com         7960\n",
       "steven.kean@enron.com        6709\n",
       "Name: source_email, dtype: int64"
      ]
     },
     "execution_count": 36,
     "metadata": {},
     "output_type": "execute_result"
    }
   ],
   "source": [
    "top_five_sources = emails_df['source'].value_counts()[0:5].index.tolist() # Display top 5 email senders\n",
    "emails_df = emails_df[emails_df['source'].isin(top_five_sources)]\n",
    "sources = emails_df['source'].unique()\n",
    "source_dict = dict(zip(sources, range(len(sources))))\n",
    "emails_df = emails_df.applymap(lambda s: source_dict.get(s) if s in source_dict else s)\n",
    "emails_df['source_email'] = emails_df['message'].apply(lambda x: parse_email(x))\n",
    "emails_df['source_email'].value_counts()[0:5]"
   ]
  },
  {
   "cell_type": "code",
   "execution_count": 49,
   "metadata": {},
   "outputs": [
    {
     "data": {
      "text/plain": [
       "'Message-ID: <16546459.1075842929585.JavaMail.evans@thyme>\\nDate: Mon, 23 Oct 2000 10:16:00 -0700 (PDT)\\nFrom: dhunter@smithandkempton.com\\nTo: athomas@newenergy.com, alippin@mail.arco.com, cohnap@sce.com, \\n\\tanw@cpuc.ca.gov, anna.ferrera@sen.ca.gov, debinorton@aol.com, \\n\\tmoravekj@sce.com, brbarkovich@earthlink.net, bakilbourne@calpx.com, \\n\\twbooth@booth-law.com, cra@calretailers.com, \\n\\twkeese@energy.state.ca.us, bzobel@mail.arco.com, fosterrg@sce.com, \\n\\thoustgrp@pacbell.net, cmcintyre@sempra.com, \\n\\tcarolyn.veal-hunter@asm.ca.gov, hacknece@sce.com, \\n\\tcharles.bacchi@asm.ca.gov, brownc@epenergy.com, dcarroll@dbsr.com, \\n\\tdcazalet@apx.com, priced@epenergy.com, dsam@chevron.com, \\n\\tdominic.dimare@calchamber.com, drothrock@cmta.net, ed@clfp.com, \\n\\tegarcia@ka-pow.com, eke@aelaw.com, gheath@eob.ca.gov, \\n\\tgordon.mcdonald@pacificorp.com, jackflanigan@flaniganlaw.com, \\n\\tjackson_gualco@gualcogroup.com, jstewart@cmta.net, \\n\\tjim@resources.ca.gov, smutny@iepa.com, jdasovic@enron.com, \\n\\tjordan@cmua.org, jcassie@sempra.com, gronijn@texaco.com, \\n\\tjoseph.lyons@asm.ca.gov, joer@calpine.com, bridgesj@epenergy.com, \\n\\tfieldejr@sce.com, johnf@ncpa.com, jgl@cpuc.ca.gov, \\n\\tjohn.rozsa@sen.ca.gov, vjw@cleanpower.org, jalamo@enron.com, \\n\\tjwright@smithandkempton.com, kedson@ns.net, kjarrell@smurfit.com, \\n\\tkykoyano@calpx.com, karen@klindh.com, kmills@cfbf.com, klc@aelaw.com, \\n\\tkatherinebrandenburg@flaniganlaw.com, kgrosulak@sppc.com, \\n\\tkmccrea@sablaw.com, kevin.lynch@pacificorp.com, kevins@ncpa.com, \\n\\tlawrence.lingbloom@sen.ca.gov, lga@mother.com, szablyal@epenergy.com, \\n\\tmdjoseph@adamsbroadwell.com, mmasri@energy.state.ca.us, \\n\\tmemcdonald@calpx.com, mpa@aelaw.com, mflorio@turn.org, \\n\\tmikahl@ka-pow.com, mpetroch@enron.com, pcaceo@pacbell.net, \\n\\tphil.nails@asm.ca.gov, pstohr@dbsr.com, rcavanagh@nrdc.org, \\n\\trandy.chinn@sen.ca.gov, ray.thompson@sen.ca.gov, \\n\\trick.counihan@greenmountain.com, berry@apx.com, rlarson@caiso.com, \\n\\tscarter@nrdc.org, pikes@epenergy.com, swilson@cmua.org, \\n\\tsmara@enron.com, sreeder@sppc.com, twinter@caiso.com, \\n\\ttdinkel@retx.com, tschmelz@energy.state.ca.us, rosst@sce.com, \\n\\tbraun@cmua.org, schaefvl@sce.com\\nSubject: Updated AB 1890 Retreat Agenda\\nMime-Version: 1.0\\nContent-Type: text/plain; charset=us-ascii\\nContent-Transfer-Encoding: 7bit\\nX-From: \"Delaney Hunter\" <dhunter@smithandkempton.com>\\nX-To: \"Aaron Thomas (E-mail)\" <athomas@newenergy.com>, \"\\'Allan Lippincott\\'\" <alippin@mail.arco.com>, \"Ann Cohn (E-mail)\" <cohnap@sce.com>, \"\\'Ann Watson\\'\" <anw@cpuc.ca.gov>, \"Anna Ferrera (E-mail)\" <Anna.Ferrera@SEN.CA.GOV>, \"\\'Art Carter\\'\" <debinorton@aol.com>, \"\\'assistant for John Fielder\\'\" <moravekj@sce.com>, \"Barbara Barkovich (E-mail)\" <brbarkovich@earthlink.net>, \"\\'Becky Kilbourne\\'\" <bakilbourne@calpx.com>, \"Bill Booth (E-mail)\" <wbooth@booth-law.com>, \"\\'Bill Dombrowski\\'\" <cra@calretailers.com>, \"Bill Keese (E-mail)\" <wkeese@energy.state.ca.us>, \"Bill Zobel (E-mail)\" <bzobel@mail.arco.com>, \"\\'Bob Foster\\'\" <fosterrg@sce.com>, \"\\'Bob Houston\\'\" <houstgrp@pacbell.net>, \"Carolyn McIntyre (E-mail)\" <cmcintyre@sempra.com>, \"Carolyn Veal-Hunter (E-mail)\" <carolyn.veal-hunter@asm.ca.gov>, \"Catherine Hackney (E-mail)\" <hacknece@sce.com>, \"Charles Bacchi (E-mail)\" <charles.bacchi@asm.ca.gov>, \"\\'Craig Brown\\'\" <brownc@epenergy.com>, \"Dan Carroll (E-mail)\" <dcarroll@dbsr.com>, \"\\'Denice Cazalet\\'\" <dcazalet@apx.com>, \"Dennis Price (E-mail)\" <priced@epenergy.com>, \"\\'Denny Samuel\\'\" <dsam@chevron.com>, \"\\'Dominic DiMare\\'\" <dominic.DiMare@calchamber.com>, \"Dorothy Rothrock (E-mail)\" <drothrock@cmta.net>, \"\\'Ed Yates\\'\" <ed@clfp.com>, \"Eloy Garcia (E-mail)\" <egarcia@ka-pow.com>, \"Evelyn Elsesser (E-mail)\" <eke@aelaw.com>, \"Gary Heath (E-mail)\" <gheath@eob.ca.gov>, \"\\'Gordon McDonald\\'\" <gordon.mcdonald@pacificorp.com>, \"\\'Jack Flanigan\\'\" <jackflanigan@flaniganlaw.com>, \"Jack Gualco (E-mail)\" <Jackson_Gualco@gualcogroup.com>, \"\\'Jack Stewart\\'\" <jstewart@cmta.net>, \"\\'James Boyd\\'\" <jim@resources.ca.gov>, \"Jan Smutny- (E-mail)\" <smutny@iepa.com>, \"  (E-mail)\" <jdasovic@enron.com>, \"\\'Jerry Jordan\\'\" <jordan@cmua.org>, \"Jim Cassie (E-mail)\" <jcassie@sempra.com>, \"Jim Groniger (E-mail)\" <gronijn@texaco.com>, \"Joe Lyons (E-mail)\" <joseph.lyons@asm.ca.gov>, \"\\'Joe Ronan\\'\" <joer@calpine.com>, \"John Bridges (E-mail)\" <bridgesj@epenergy.com>, \"\\'John Fielder\\'\" <fieldejr@sce.com>, \"John Fistolera (E-mail)\" <johnf@ncpa.com>, \"John Larrea (E-mail)\" <jgl@cpuc.ca.gov>, \"John Rozsa (E-mail)\" <John.Rozsa@sen.ca.gov>, \"John White (E-mail)\" <vjw@cleanpower.org>, \"\\'Joseph Alamo\\'\" <jalamo@enron.com>, \"\\'Julia Wright\\'\" <jwright@smithandkempton.com>, \"Karen Edson (E-mail)\" <kedson@ns.net>, \"Karen Jarrell (E-mail)\" <kjarrell@smurfit.com>, \"Karen Koyano (E-mail)\" <kykoyano@calpx.com>, \"\\'Karen Lindh\\'\" <karen@klindh.com>, \"Karen Mills (E-mail)\" <kmills@cfbf.com>, \"\\'Kari Harteloo\\'\" <klc@aelaw.com>, \"\\'Kathy Brandenburg\\'\" <katherinebrandenburg@flaniganlaw.com>, \" Grosulak (E-mail)\" <kgrosulak@sppc.com>, \"Keith McCrea (E-mail)\" <kmccrea@sablaw.com>, \"Kevin Lynch (E-mail)\" <Kevin.Lynch@pacifiCorp.com>, \"Kevin Smith (E-mail)\" <kevins@ncpa.com>, \"Lawrence Lingbloom (E-mail)\" <lawrence.lingbloom@sen.ca.gov>, \"Lenny Goldberg (E-mail)\" <lga@mother.com>, \"Louis Szablya (E-mail)\" <szablyal@epenergy.com>, \"Marc Joseph (E-mail)\" <mdjoseph@adamsbroadwell.com>, \"Marwan Masri (E-mail)\" <mmasri@energy.state.ca.us>, \"Mary McDonald (E-mail)\" <memcdonald@calpx.com>, \"Michael Alcantar (E-mail)\" <mpa@aelaw.com>, \"Mike Florio (E-mail)\" <mflorio@turn.org>, \"\\'Mike Kahl\\'\" <mikahl@ka-pow.com>, \"Mona Petrochko (E-mail)\" <mpetroch@enron.com>, \"Pete Conaty (E-mail)\" <pcaceo@pacbell.net>, \"\\'Phil Nails\\'\" <phil.nails@asm.ca.gov>, \"Phil Stohr (E-mail)\" <pstohr@dbsr.com>, \"Ralph Cavanagh (E-mail)\" <rcavanagh@nrdc.org>, \"Randy Chinn (E-mail)\" <randy.chinn@sen.ca.gov>, \"Ray Thompson (E-mail)\" <ray.thompson@sen.ca.gov>, \"\\'Rick Counihan\\'\" <rick.counihan@greenmountain.com>, \"Robert Berry (E-mail)\" <berry@apx.com>, \"Robin Larson (E-mail)\" <rlarson@caiso.com>, \"Sheryl Carter (E-mail)\" <scarter@nrdc.org>, \"Steve Pike (E-mail)\" <pikes@epenergy.com>, \"Stu Wilson (E-mail)\" <swilson@cmua.org>, \"\\'Sue Mara\\'\" <smara@enron.com>, \"Susan Reeder (E-mail)\" <sreeder@sppc.com>, \"Terry Winter (E-mail)\" <twinter@caiso.com>, \"Thomas Dinkel (E-mail)\" <tdinkel@retx.com>, \"Tim Schmelzer (E-mail)\" <Tschmelz@energy.state.ca.us>, \"\\'Tommy Ross\\'\" <rosst@sce.com>, \"\\'Tony Braun\\'\" <braun@cmua.org>, \"Victoria Schaefer (E-mail)\" <schaefvl@sce.com>\\nX-cc: \\nX-bcc: \\nX-Folder: \\\\__Dec2000\\\\Notes Folders\\\\Ab 1890 group\\nX-Origin: DASOVICH-J\\nX-FileName: jdasovic.nsf\\n\\nPlease see attached for the most up to date version of our Retreat Agenda.\\nThanks, Delaney\\n\\n\\n\\n - Agenda.doc'"
      ]
     },
     "execution_count": 49,
     "metadata": {},
     "output_type": "execute_result"
    }
   ],
   "source": [
    "def remove_names(input_str, name_list):\n",
    "    for name in name_list:\n",
    "        input_str = input_str.replace(name[0], '')\n",
    "        input_str = input_str.replace(name[1], '')\n",
    "    return input_str\n",
    "top_emails = emails_df['source_email'].value_counts()[0:5].index.tolist()\n",
    "parsed_names = [(x.split('@')[0].split('.')[0].capitalize(), x.split('@')[0].split('.')[1].capitalize()) for x in top_emails]\n",
    "emails_df['message'] = emails_df['message'].apply(lambda x: remove_names(x, parsed_names))\n",
    "emails_df['message'][55366]"
   ]
  },
  {
   "cell_type": "code",
   "execution_count": 50,
   "metadata": {},
   "outputs": [
    {
     "name": "stderr",
     "output_type": "stream",
     "text": [
      "C:\\Users\\mayam\\Anaconda3\\lib\\site-packages\\h5py\\__init__.py:36: FutureWarning: Conversion of the second argument of issubdtype from `float` to `np.floating` is deprecated. In future, it will be treated as `np.float64 == np.dtype(float).type`.\n",
      "  from ._conv import register_converters as _register_converters\n",
      "Using TensorFlow backend.\n"
     ]
    }
   ],
   "source": [
    "import keras\n",
    "from keras.preprocessing.text import Tokenizer\n",
    "from keras.preprocessing.sequence import pad_sequences\n",
    "NUM_TOP_WORDS = None\n",
    "MAX_ART_LEN = 300 # maximum and minimum number of words\n",
    "\n",
    "tokenizer = Tokenizer(num_words=NUM_TOP_WORDS)\n",
    "tokenizer.fit_on_texts(emails_df['message'])\n",
    "sequences = tokenizer.texts_to_sequences(emails_df['message'])"
   ]
  },
  {
   "cell_type": "code",
   "execution_count": 51,
   "metadata": {},
   "outputs": [
    {
     "name": "stdout",
     "output_type": "stream",
     "text": [
      "Found 455485 unique tokens. Distilled to 455485 top words.\n",
      "Shape of data tensor: (125381, 300)\n",
      "Shape of label tensor: (125381, 5)\n",
      "455479\n"
     ]
    }
   ],
   "source": [
    "word_index = tokenizer.word_index\n",
    "NUM_TOP_WORDS = len(word_index) if NUM_TOP_WORDS==None else NUM_TOP_WORDS\n",
    "top_words = min((len(word_index),NUM_TOP_WORDS))\n",
    "print('Found %s unique tokens. Distilled to %d top words.' % (len(word_index),top_words))\n",
    "\n",
    "X = pad_sequences(sequences, maxlen=MAX_ART_LEN)\n",
    "\n",
    "y_ohe = keras.utils.to_categorical(emails_df['source'])\n",
    "print('Shape of data tensor:', X.shape)\n",
    "print('Shape of label tensor:', y_ohe.shape)\n",
    "print(np.max(X))"
   ]
  },
  {
   "cell_type": "code",
   "execution_count": 52,
   "metadata": {},
   "outputs": [
    {
     "name": "stdout",
     "output_type": "stream",
     "text": [
      "(100304, 300) (100304, 5)\n",
      "[22587. 15960. 22772. 20280. 18705.]\n"
     ]
    }
   ],
   "source": [
    "from sklearn.model_selection import train_test_split\n",
    "# Split it into train / test subsets\n",
    "X_train, X_test, y_train_ohe, y_test_ohe = train_test_split(X, y_ohe, test_size=0.2,\n",
    "                                                            stratify=emails_df['source'], \n",
    "                                                            random_state=42)\n",
    "NUM_CLASSES = 5\n",
    "print(X_train.shape,y_train_ohe.shape)\n",
    "print(np.sum(y_train_ohe,axis=0))"
   ]
  },
  {
   "cell_type": "code",
   "execution_count": 53,
   "metadata": {},
   "outputs": [],
   "source": [
    "# show example without the FOR loop\n",
    "from keras.models import Sequential, Input, Model\n",
    "from keras.layers import Dense\n",
    "from keras.layers import SimpleRNN\n",
    "from keras.layers.embeddings import Embedding\n",
    "\n",
    "\n",
    "EMBED_SIZE = 50\n",
    "rnns = []\n",
    "input_holder = Input(shape=(X_train.shape[1], ))\n",
    "input_embed = Embedding(top_words, # input dimension (max int of OHE)\n",
    "                EMBED_SIZE, # output dimension size\n",
    "                input_length=MAX_ART_LEN)(input_holder) # number of words in each sequence\n",
    "\n",
    "\n",
    "x = SimpleRNN(25,dropout=0.2, recurrent_dropout=0.2)(input_embed)\n",
    "x = Dense(NUM_CLASSES, activation='sigmoid')(x)\n",
    "rnn=Model(inputs=input_holder,outputs=x)\n",
    "rnn.compile(loss='binary_crossentropy', \n",
    "              optimizer='rmsprop', \n",
    "              metrics=['accuracy'])"
   ]
  },
  {
   "cell_type": "code",
   "execution_count": 54,
   "metadata": {},
   "outputs": [],
   "source": [
    "from keras.models import Sequential, Input, Model\n",
    "from keras.layers import Dense\n",
    "from keras.layers import LSTM, GRU, SimpleRNN\n",
    "from keras.layers.embeddings import Embedding\n",
    "\n",
    "EMBED_SIZE = 50\n",
    "rnns = []\n",
    "input_holder = Input(shape=(X_train.shape[1], ))\n",
    "shared_embed = Embedding(top_words, # input dimension (max int of OHE)\n",
    "                EMBED_SIZE, # output dimension size\n",
    "                input_length=MAX_ART_LEN)(input_holder) # number of words in each sequence\n",
    "\n",
    "for func in [SimpleRNN, LSTM, GRU]:\n",
    "    \n",
    "    x = func(50, dropout=0.2, recurrent_dropout=0.2)(shared_embed)\n",
    "    x = Dense(NUM_CLASSES, activation='sigmoid')(x)\n",
    "    rnn=Model(inputs=input_holder,outputs=x)\n",
    "    rnn.compile(loss='binary_crossentropy', \n",
    "                  optimizer='rmsprop', \n",
    "                  metrics=['accuracy'])\n",
    "    rnns.append(rnn)"
   ]
  },
  {
   "cell_type": "code",
   "execution_count": 55,
   "metadata": {},
   "outputs": [
    {
     "name": "stdout",
     "output_type": "stream",
     "text": [
      "======= simple ========\n",
      "Train on 100304 samples, validate on 25077 samples\n",
      "Epoch 1/3\n",
      "100304/100304 [==============================] - 413s 4ms/step - loss: 0.4337 - acc: 0.8142 - val_loss: 0.3178 - val_acc: 0.8682\n",
      "Epoch 2/3\n",
      "100304/100304 [==============================] - 443s 4ms/step - loss: 0.2716 - acc: 0.8896 - val_loss: 0.2137 - val_acc: 0.9127\n",
      "Epoch 3/3\n",
      "100304/100304 [==============================] - 409s 4ms/step - loss: 0.2037 - acc: 0.9192 - val_loss: 0.1812 - val_acc: 0.9281\n",
      "======= lstm ========\n",
      "Train on 100304 samples, validate on 25077 samples\n",
      "Epoch 1/3\n",
      "100304/100304 [==============================] - 611s 6ms/step - loss: 0.1970 - acc: 0.9202 - val_loss: 0.0806 - val_acc: 0.9715\n",
      "Epoch 2/3\n",
      "100304/100304 [==============================] - 603s 6ms/step - loss: 0.0779 - acc: 0.9716 - val_loss: 0.0573 - val_acc: 0.9793\n",
      "Epoch 3/3\n",
      "100304/100304 [==============================] - 610s 6ms/step - loss: 0.0534 - acc: 0.9799 - val_loss: 0.0453 - val_acc: 0.9831\n",
      "======= gru ========\n",
      "Train on 100304 samples, validate on 25077 samples\n",
      "Epoch 1/3\n",
      "100304/100304 [==============================] - 572s 6ms/step - loss: 0.1043 - acc: 0.9599 - val_loss: 0.0391 - val_acc: 0.9846\n",
      "Epoch 2/3\n",
      "100304/100304 [==============================] - 567s 6ms/step - loss: 0.0347 - acc: 0.9866 - val_loss: 0.0344 - val_acc: 0.9865\n",
      "Epoch 3/3\n",
      "100304/100304 [==============================] - 568s 6ms/step - loss: 0.0280 - acc: 0.9895 - val_loss: 0.0299 - val_acc: 0.9884\n"
     ]
    }
   ],
   "source": [
    "for rnn, name in zip(rnns,['simple','lstm','gru']):\n",
    "    print('=======',name,'========')\n",
    "    rnn.fit(X_train, y_train_ohe, epochs=3, batch_size=64, validation_data=(X_test, y_test_ohe))"
   ]
  },
  {
   "cell_type": "code",
   "execution_count": null,
   "metadata": {},
   "outputs": [],
   "source": []
  }
 ],
 "metadata": {
  "kernelspec": {
   "display_name": "Python 3",
   "language": "python",
   "name": "python3"
  },
  "language_info": {
   "codemirror_mode": {
    "name": "ipython",
    "version": 3
   },
   "file_extension": ".py",
   "mimetype": "text/x-python",
   "name": "python",
   "nbconvert_exporter": "python",
   "pygments_lexer": "ipython3",
   "version": "3.6.5"
  }
 },
 "nbformat": 4,
 "nbformat_minor": 2
}
