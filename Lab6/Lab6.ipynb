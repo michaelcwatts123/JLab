{
 "cells": [
  {
   "cell_type": "markdown",
   "metadata": {},
   "source": [
    "<h1> Lab Six: Convolutional Network Architectures </h1>"
   ]
  },
  {
   "cell_type": "markdown",
   "metadata": {},
   "source": [
    "<h4> Adam Ashcraft, Maya Muralidhar, Nora Potenti, Michael Watts </h4>"
   ]
  },
  {
   "cell_type": "markdown",
   "metadata": {},
   "source": [
    "<h1> 1.0 Preparation </h1>"
   ]
  },
  {
   "cell_type": "markdown",
   "metadata": {},
   "source": [
    "<h2> 1.1 Business Understanding </h2>"
   ]
  },
  {
   "cell_type": "markdown",
   "metadata": {},
   "source": [
    "This is a dataset of approximately 4,300 images of flowers. These images have been taken from Flickr, Google, and Yandax and are divided into five categories: dasies, dandelions, roses, sunflowers, and tulips. The images were collected by performing a data scrape of these image hosting services by the dataset creator Alexander Mamaev. The images are in standard definition quality and do not have a standardized size. According to the Kaggle page, the data was collected to answer the question, “What kind of flower is that?” The creator also includes a prediction task for the data on Kaggle, “You can use this dataset to recognize plants from the photo.” \n",
    "\n",
    "This tool would primary serve the completely flower illiterate. It provides a very basic stepping stone into the wide world of botany for those with no experience in the field. With an application like this, a user will be able to successfully differentiate between different types of flowers based on subtler nuances than simply factors like color. Ideally, this would prevent someone from buying sunflowers instead of tulips simply because they are the same color. \n",
    "\n",
    "\n",
    "Another plant photo identification tool already exists in the market, Plantsnap. According to the Plantsnap website, it boasts a 96% success rate. In order for our tool to be considered viable, it must have at least, if not greater than, a 96% success rate.  \n",
    "\n",
    "<hr>\n",
    "Kaggle dataset: https://www.kaggle.com/alxmamaev/flowers-recognition <br>\n",
    "Plantsnap self reported success rate: https://plantsnap.com/faq/"
   ]
  },
  {
   "cell_type": "markdown",
   "metadata": {},
   "source": [
    "<h2> 1.2 Evaluation Criteria </h2>"
   ]
  },
  {
   "cell_type": "markdown",
   "metadata": {},
   "source": [
    "Before we determine our evaluation criteria, let’s take a moment to look at our data.\n"
   ]
  },
  {
   "cell_type": "code",
   "execution_count": 70,
   "metadata": {},
   "outputs": [],
   "source": [
    "import pandas as pd\n",
    "import numpy as np\n",
    "import seaborn as sns\n",
    "from matplotlib import pyplot as plt\n",
    "import os\n",
    "import glob\n",
    "import pickle\n",
    "from PIL import Image\n",
    "from matplotlib.pyplot import imshow\n",
    "from IPython.display import display\n",
    "from sklearn.model_selection import train_test_split\n",
    "import cv2\n",
    "import keras\n",
    "from keras.models import Sequential\n",
    "from keras.layers import Reshape\n",
    "from keras.layers import Dense, Dropout, Activation, Flatten\n",
    "from keras.layers import Conv2D, Conv3D, MaxPooling2D, MaxPooling3D\n",
    "from keras.preprocessing.image import ImageDataGenerator\n",
    "from keras.callbacks import EarlyStopping\n",
    "from scipy.misc import imresize\n",
    "from sklearn import metrics as mt\n",
    "from keras.models import load_model"
   ]
  },
  {
   "cell_type": "code",
   "execution_count": 58,
   "metadata": {},
   "outputs": [],
   "source": [
    "#use glob to get all file names in each folder\n",
    "daisyFiles = glob.glob(\"flowers/daisy/*\")\n",
    "dandelionFiles = glob.glob(\"flowers/dandelion/*\")\n",
    "roseFiles = glob.glob(\"flowers/rose/*\")\n",
    "sunflowerFiles = glob.glob(\"flowers/sunflower/*\")\n",
    "tulipFiles = glob.glob(\"flowers/tulip/*\")\n",
    "\n",
    "daisies = []\n",
    "dandelions = []\n",
    "roses = []\n",
    "sunflowers = []\n",
    "tulips = []\n",
    "#function to take image name, open image as numpy array and add to list\n",
    "def addImageToArray(imageFileArray, imageArray):\n",
    "    for file in imageFileArray:\n",
    "        imageArray.append(np.asarray(Image.open(file)))\n",
    "        \n",
    "addImageToArray(daisyFiles,daisies)\n",
    "addImageToArray(dandelionFiles,dandelions)\n",
    "addImageToArray(roseFiles,roses)\n",
    "addImageToArray(sunflowerFiles,sunflowers)\n",
    "addImageToArray(tulipFiles,tulips)"
   ]
  },
  {
   "cell_type": "code",
   "execution_count": 21,
   "metadata": {},
   "outputs": [
    {
     "data": {
      "text/plain": [
       "([<matplotlib.patches.Wedge at 0x2aab65866160>,\n",
       "  <matplotlib.patches.Wedge at 0x2aab658667f0>,\n",
       "  <matplotlib.patches.Wedge at 0x2aab65866ef0>,\n",
       "  <matplotlib.patches.Wedge at 0x2aab658535f8>,\n",
       "  <matplotlib.patches.Wedge at 0x2aab65853cf8>],\n",
       " [Text(0.932655,0.583228,'Daisy'),\n",
       "  Text(-0.337028,1.0471,'Dandelion'),\n",
       "  Text(-1.09692,-0.08226,'Rose'),\n",
       "  Text(-0.421044,-1.01623,'Sunflower'),\n",
       "  Text(0.830539,-0.721253,'Tulip')],\n",
       " [Text(0.508721,0.318124,'17.8%'),\n",
       "  Text(-0.183834,0.571144,'24.3%'),\n",
       "  Text(-0.59832,-0.0448691,'18.1%'),\n",
       "  Text(-0.22966,-0.554307,'17.0%'),\n",
       "  Text(0.453021,-0.393411,'22.8%')])"
      ]
     },
     "execution_count": 21,
     "metadata": {},
     "output_type": "execute_result"
    },
    {
     "data": {
      "image/png": "[encoded data removed]",
      "text/plain": [
       "<matplotlib.figure.Figure at 0x2aab659ddba8>"
      ]
     },
     "metadata": {},
     "output_type": "display_data"
    }
   ],
   "source": [
    "pieValues = [len(daisies), len(dandelions), len(roses), len(sunflowers), len(tulips)]\n",
    "plt.pie(x=pieValues,labels=['Daisy', 'Dandelion', 'Rose', 'Sunflower','Tulip'], autopct='%1.1f%%')"
   ]
  },
  {
   "cell_type": "markdown",
   "metadata": {},
   "source": [
    "A false negative and a false positive both represent the same idea here, an erroneous categorization of the flower for our user. Considering the fact, we are working with total flower novices, we will want to minimize both our false positive and false negatives rates as much as possible. We cannot assume our user is knowledgeable enough to detect them himself. We must also take into account the slight class imbalance we see in the above graphic. Dandelions and Tulips represent almost 50% of the classes in the data set. In order to focus on minimizing both the false positives and false negatives as well consider the class imbalance, we will use F1 score.\n"
   ]
  },
  {
   "cell_type": "code",
   "execution_count": 59,
   "metadata": {},
   "outputs": [],
   "source": [
    "%%capture --no-display\n",
    "\n",
    "croppedDaisies = [imresize(x,size=(330,500), interp='nearest') for x in daisies]    \n",
    "\n",
    "croppedDandelions = [imresize(x,size=(330,500), interp='nearest') for x in dandelions]   \n",
    "\n",
    "croppedRoses =[imresize(x,size=(330,500), interp='nearest') for x in roses]  \n",
    "\n",
    "croppedSunflowers = [imresize(x,size=(330,500), interp='nearest') for x in sunflowers]    \n",
    "\n",
    "croppedTulips = [imresize(x,size=(330,500), interp='nearest') for x in tulips] "
   ]
  },
  {
   "cell_type": "code",
   "execution_count": 60,
   "metadata": {},
   "outputs": [],
   "source": [
    "def flattenMatrix(arrayOfMatracies):\n",
    "    flattenedArray = []\n",
    "    for m in arrayOfMatracies:\n",
    "        flattenedArray.append(m.flatten())\n",
    "        \n",
    "    return flattenedArray\n"
   ]
  },
  {
   "cell_type": "markdown",
   "metadata": {},
   "source": [
    "<h2> 1.2 Data Division </h2>"
   ]
  },
  {
   "cell_type": "markdown",
   "metadata": {},
   "source": [
    "For our data division, we will do a stratified shuffle train test split across our data then use a stratified shuffle split. The stratification will correct for the class imbalance of the data. The data is currently grouped into 5 groups, 1 per class. This is not an accurate reflection of how our model will be used. It is highly unlikely that the application will only ever see one kind of flower at a time, iteration after iteration. It will more than likely be exposed to a wide variety of flower with every use. In order to better model this, the data will be shuffled in order to split the groups of classes up and distribute them among the k-folds. The train-test split will give us a section of data never before seen by our model we can use to easily check its performance against. \n",
    "\n"
   ]
  },
  {
   "cell_type": "code",
   "execution_count": 61,
   "metadata": {},
   "outputs": [],
   "source": [
    "from sklearn.model_selection import StratifiedShuffleSplit\n",
    "sss = StratifiedShuffleSplit(n_splits=5, test_size=0.5, random_state=1)\n",
    "X = np.array(croppedDaisies + croppedTulips + croppedDandelions + croppedRoses + croppedSunflowers)\n",
    "y = np.array(len(croppedDaisies)*[0] + len(croppedTulips)*[1] + len(croppedDandelions)*[2] + len(croppedRoses)*[3] + len(croppedSunflowers)*[4])\n",
    "X_split, X_test, y_split, y_test = train_test_split(X, y, stratify = y, shuffle = True, random_state=42, test_size=0.2)\n",
    "\n",
    "X_test_resize = [imresize(x,size=(33,50), interp='nearest') for x in X_test]\n",
    "X_test_resize = np.stack(X_test_resize,axis=0)\n",
    "X_test_resize = flattenMatrix(X_test_resize)\n",
    "y_test_ohe = keras.utils.to_categorical(y_test, 5)"
   ]
  },
  {
   "cell_type": "markdown",
   "metadata": {},
   "source": [
    "<h1> 2.0 Convolutional Neural Nets </h1>"
   ]
  },
  {
   "cell_type": "markdown",
   "metadata": {},
   "source": [
    "<h2> 2.1 Data Expansion </h2>"
   ]
  },
  {
   "cell_type": "markdown",
   "metadata": {},
   "source": [
    "We will want to assume that our photographer has no idea what features he is trying to capture in the image. This means he does not know good angles, lighting, or focus for his flower photograph. In order to mirror an amateur as much as possible with our data, we will create a wide variety of augmentations with our data generator.   \n"
   ]
  },
  {
   "cell_type": "code",
   "execution_count": 62,
   "metadata": {},
   "outputs": [],
   "source": [
    "from keras.preprocessing.image import ImageDataGenerator\n",
    "datagen = ImageDataGenerator(featurewise_center=False,\n",
    "    samplewise_center=False,\n",
    "    featurewise_std_normalization=False, #adding to each pixel\n",
    "    samplewise_std_normalization=False, #adding to each picture\n",
    "    zca_whitening=False,\n",
    "    rotation_range=180, # used, Int. Degree range for random rotations.\n",
    "    width_shift_range=0.5, # used, Float (fraction of total width). Range for random horizontal shifts.\n",
    "    height_shift_range=0.5, # used,  Float (fraction of total height). Range for random vertical shifts.\n",
    "    shear_range=0., # Float. Shear Intensity (Shear angle in counter-clockwise direction as radians)\n",
    "    zoom_range=0.,\n",
    "    channel_shift_range=0.,\n",
    "    fill_mode='nearest',\n",
    "    cval=0.,\n",
    "    horizontal_flip=True,\n",
    "    vertical_flip=False,\n",
    "    rescale=None)"
   ]
  },
  {
   "cell_type": "markdown",
   "metadata": {},
   "source": [
    "<h2> 2.2 Simple CNN </h2>"
   ]
  },
  {
   "cell_type": "code",
   "execution_count": 63,
   "metadata": {},
   "outputs": [
    {
     "name": "stdout",
     "output_type": "stream",
     "text": [
      "4950\n"
     ]
    }
   ],
   "source": [
    "\n",
    "NUM_CLASSES = 5 \n",
    "\n",
    "print(len(X_test_resize[0]))"
   ]
  },
  {
   "cell_type": "code",
   "execution_count": 64,
   "metadata": {},
   "outputs": [
    {
     "name": "stdout",
     "output_type": "stream",
     "text": [
      "Fold # 1 :\n",
      "F1 Score is  0.0953587905363\n",
      "Fold # 2 :\n",
      "F1 Score is  0.0953587905363\n",
      "Fold # 3 :\n",
      "F1 Score is  0.0953587905363\n",
      "Fold # 4 :\n",
      "F1 Score is  0.0953587905363\n",
      "Fold # 5 :\n",
      "F1 Score is  0.0953587905363\n"
     ]
    }
   ],
   "source": [
    "# import warnings\n",
    "# warnings.filterwarnings('ignore')\n",
    "mlp = Sequential()\n",
    "mlp.add( Dense(input_dim=len(X_train_resize[0]), units=100, activation='relu') )\n",
    "mlp.add( Dense(units=50, activation='relu') )\n",
    "mlp.add( Dense(NUM_CLASSES) )\n",
    "mlp.add( Activation('softmax') )\n",
    "\n",
    "mlp.compile(loss='categorical_crossentropy',\n",
    "              optimizer='adamax',\n",
    "              metrics=['accuracy'])\n",
    "count = 0\n",
    "for train_index, test_index in sss.split(X_split, y_split): #SSS k folds, will run and print F1 score for each\n",
    "    count = count + 1\n",
    "    print('Fold #', count, ':')\n",
    "    X_train, X_test = X_split[train_index], X_split[test_index]\n",
    "    y_train, y_test = y_split[train_index], y_split[test_index]\n",
    "    \n",
    "    NUM_CLASSES = 5 \n",
    "    X_train_resize = [imresize(x,size=(33,50), interp='nearest') for x in X_train]\n",
    "    X_train_resize = np.stack(X_train_resize,axis=0)\n",
    "    X_train_resize = flattenMatrix(X_train_resize)\n",
    "    X_test_resize = [imresize(x,size=(33,50), interp='nearest') for x in X_test]\n",
    "    X_test_resize = np.stack(X_test_resize,axis=0)\n",
    "    X_test_resize = flattenMatrix(X_test_resize)\n",
    "    y_train_ohe = keras.utils.to_categorical(y_train, NUM_CLASSES)\n",
    "    y_test_ohe = keras.utils.to_categorical(y_test, NUM_CLASSES)\n",
    "\n",
    "\n",
    "    mlp.fit(np.array(X_train_resize), y_train_ohe, \n",
    "        batch_size=32, epochs=150, \n",
    "        shuffle=True, verbose=0)\n",
    "    y_hat = mlp.predict(np.array(X_test_resize))\n",
    "    y_hat_ohe = keras.utils.to_categorical(y_hat.argmax(axis=1), 5)\n",
    "\n",
    "    score = mt.f1_score(y_test_ohe, y_hat_ohe, average='weighted')\n",
    "    print('F1 Score is ', score)\n"
   ]
  },
  {
   "cell_type": "code",
   "execution_count": 71,
   "metadata": {},
   "outputs": [],
   "source": [
    "mlp.save('large_data/mlp.h5')"
   ]
  },
  {
   "cell_type": "code",
   "execution_count": null,
   "metadata": {},
   "outputs": [],
   "source": [
    "mlp = load_model('large_data/mlp.h5')"
   ]
  },
  {
   "cell_type": "code",
   "execution_count": 69,
   "metadata": {},
   "outputs": [
    {
     "name": "stdout",
     "output_type": "stream",
     "text": [
      "Fold # 1 :\n",
      "F1 Score is  0.0953587905363\n",
      "Fold # 2 :\n",
      "F1 Score is  0.0953587905363\n",
      "Fold # 3 :\n",
      "F1 Score is  0.0953587905363\n",
      "Fold # 4 :\n",
      "F1 Score is  0.0953587905363\n",
      "Fold # 5 :\n",
      "F1 Score is  0.0953587905363\n"
     ]
    }
   ],
   "source": [
    "cnn = Sequential()\n",
    "cnn.add(Reshape((3,33,50), input_shape=(1,4950)))\n",
    "cnn.add(Conv2D(filters=16, kernel_size= (10, 10), padding='same', input_shape=(3,33,50)))\n",
    "cnn.add(Conv2D(filters=24, \n",
    "                    kernel_size=(3,3), \n",
    "                    padding='same', \n",
    "                    activation='relu'))\n",
    "cnn.add(Activation('relu'))\n",
    "cnn.add(MaxPooling2D(pool_size=(3, 5), data_format=\"channels_first\"))\n",
    "# add one layer on flattened output\n",
    "cnn.add(Dropout(0.25))\n",
    "cnn.add(Flatten())\n",
    "cnn.add(Dense(100, activation='relu'))\n",
    "cnn.add(Dropout(0.5)) # add some dropout for regularization, again!\n",
    "cnn.add(Dense(NUM_CLASSES))\n",
    "cnn.add(Activation('softmax'))\n",
    "\n",
    "# Let's train the model \n",
    "cnn.compile(loss='categorical_crossentropy',\n",
    "              optimizer='adamax',\n",
    "              metrics=['accuracy'])\n",
    "count = 0\n",
    "for train_index, test_index in sss.split(X_split, y_split): #SSS k folds, will run and print F1 score for each\n",
    "    count = count + 1\n",
    "    print('Fold #', count, ':')\n",
    "    X_train, X_test = X_split[train_index], X_split[test_index]\n",
    "    y_train, y_test = y_split[train_index], y_split[test_index]\n",
    "    \n",
    "    NUM_CLASSES = 5 \n",
    "\n",
    "    X_train_resize = [imresize(x,size=(33,50), interp='nearest') for x in X_train]\n",
    "\n",
    "    X_train_resize = np.stack(X_train_resize,axis=0)\n",
    "\n",
    "    X_train_resize = flattenMatrix(X_train_resize)\n",
    "\n",
    "    X_test_resize = [imresize(x,size=(33,50), interp='nearest') for x in X_test]\n",
    "    X_test_resize = np.stack(X_test_resize,axis=0)\n",
    "    X_test_resize = flattenMatrix(X_test_resize)\n",
    "    y_train_ohe = keras.utils.to_categorical(y_train, NUM_CLASSES)\n",
    "    y_test_ohe = keras.utils.to_categorical(y_test, NUM_CLASSES)\n",
    "\n",
    "    cnn.fit(np.expand_dims(X_train_resize, axis=1), y_train_ohe, \n",
    "        batch_size=32, epochs=150, \n",
    "        shuffle=True, verbose=0)\n",
    "    yhat = np.argmax(cnn.predict(np.expand_dims(X_test_resize, axis=1)), axis=1)\n",
    "    y_hat_ohe = keras.utils.to_categorical(y_hat.argmax(axis=1), 5)\n",
    "\n",
    "    score = mt.f1_score(y_test_ohe, y_hat_ohe, average='weighted')\n",
    "    print('F1 Score is ', score)\n",
    "# we need to exapnd the dimensions here to give the \n",
    "#   \"channels\" dimension expected by Keras\n"
   ]
  },
  {
   "cell_type": "code",
   "execution_count": 72,
   "metadata": {},
   "outputs": [],
   "source": [
    "cnn.save('large_data/cnn.h5')"
   ]
  },
  {
   "cell_type": "code",
   "execution_count": null,
   "metadata": {},
   "outputs": [],
   "source": [
    "cnn = load_model('large_data/cnn.h5')"
   ]
  },
  {
   "cell_type": "code",
   "execution_count": 73,
   "metadata": {},
   "outputs": [],
   "source": [
    "\n",
    "from matplotlib import pyplot as plt\n",
    "import seaborn as sns\n",
    "%matplotlib inline\n",
    "\n",
    "def compare_mlp_cnn(cnn, mlp, X_test, y_test):\n",
    "    plt.figure(figsize=(15,5))\n",
    "    if cnn is not None:\n",
    "        yhat_cnn = np.argmax(cnn.predict(np.expand_dims(X_test, axis=1)), axis=1)\n",
    "        f_cnn = mt.f1_score(y_test,yhat_cnn, average= 'weighted')\n",
    "        plt.subplot(1,2,1)\n",
    "        cm = mt.confusion_matrix(y_test,yhat_cnn)\n",
    "        cm = cm/np.sum(cm,axis=1)[:,np.newaxis]\n",
    "        sns.heatmap(cm, annot=True, fmt='.2f')\n",
    "        plt.title('CNN: '+str(f_cnn))\n",
    "    \n",
    "    if mlp is not None:\n",
    "        yhat_mlp = np.argmax(mlp.predict(X_test), axis=1)\n",
    "        f_mlp = mt.f1_score(y_test,yhat_mlp, average= 'weighted')\n",
    "        plt.subplot(1,2,2)\n",
    "        cm = mt.confusion_matrix(y_test,yhat_mlp)\n",
    "        cm = cm/np.sum(cm,axis=1)[:,np.newaxis]\n",
    "        sns.heatmap(cm,annot=True, fmt='.2f')\n",
    "        plt.title('MLP: '+str(f_mlp))"
   ]
  },
  {
   "cell_type": "code",
   "execution_count": 74,
   "metadata": {},
   "outputs": [
    {
     "data": {
      "image/png": "[encoded data removed]",
      "text/plain": [
       "<matplotlib.figure.Figure at 0x2aabcb28e898>"
      ]
     },
     "metadata": {},
     "output_type": "display_data"
    }
   ],
   "source": [
    "compare_mlp_cnn(cnn,mlp, np.array(X_test_resize),y_test)"
   ]
  },
  {
   "cell_type": "code",
   "execution_count": null,
   "metadata": {},
   "outputs": [],
   "source": [
    "daisies_color = [cv2.imread(img, 1) for img in daisyFiles]\n",
    "dandelions_color = [cv2.imread(img, 1) for img in dandelionFiles]\n",
    "roses_color = [cv2.imread(img, 1) for img in roseFiles]\n",
    "sunflowers_color = [cv2.imread(img, 1) for img in sunflowerFiles]\n",
    "tulips_color = [cv2.imread(img, 1) for img in tulipFiles]"
   ]
  },
  {
   "cell_type": "code",
   "execution_count": null,
   "metadata": {},
   "outputs": [],
   "source": [
    "def matrix_resize_color(arrayToAlter):\n",
    "    croppedImages = []\n",
    "    for i in range(0, len(arrayToAlter)):\n",
    "        if(arrayToAlter[i].shape[0] >= 244 and arrayToAlter[i].shape[1] >= 327):\n",
    "            #crop image\n",
    "            image = arrayToAlter[i][0:244, 0:327]\n",
    "            #final resize to ensure all matricies are the same size and remove any extra data from converting\n",
    "            croppedImages.append(cv2.resize(image, (500, 330), interpolation = cv2.INTER_AREA))\n",
    "    return croppedImages\n",
    "cropped_daisies_color = matrix_resize_color(daisies_color)\n",
    "cropped_dandelions_color = matrix_resize_color(dandelions_color)\n",
    "cropped_roses_color = matrix_resize_color(roses_color)\n",
    "cropped_sunflowers_color = matrix_resize_color(sunflowers_color)\n",
    "cropped_tulips_color = matrix_resize_color(tulips_color)\n",
    "cropped_daisies_color[0].shape"
   ]
  },
  {
   "cell_type": "code",
   "execution_count": null,
   "metadata": {},
   "outputs": [],
   "source": [
    "def flatten_matrix_color(array_of_matrices):\n",
    "    total_array = []\n",
    "    flattened_array = []\n",
    "    for i in range(0, 3):\n",
    "        for m in array_of_matrices:\n",
    "            flattened_array.append(m[:,:,i].flatten())\n",
    "        total_array.append(np.array(flattened_array))\n",
    "        flattened_array = []\n",
    "    return np.array(total_array).reshape(len(array_of_matrices), 3, int(array_of_matrices[0].size/3))\n",
    "\n",
    "X_color = np.array(cropped_daisies_color + cropped_tulips_color + cropped_dandelions_color + cropped_roses_color + cropped_sunflowers_color)\n",
    "# y is still y\n",
    "X_train_color, X_test_color, y_train_color, y_test_color = train_test_split(X_color, y, test_size=0.2)\n",
    "NUM_CLASSES = 5 \n",
    "X_train_resize_color = [imresize(x,size=(33,50, 3), interp='nearest') for x in X_train_color]\n",
    "X_train_resize_color = np.stack(X_train_resize_color,axis=0)\n",
    "X_train_resize_color = flatten_matrix_color(X_train_resize_color)\n",
    "X_test_resize_color = [imresize(x,size=(33,50, 3), interp='nearest') for x in X_test_color]\n",
    "X_test_resize_color = np.stack(X_test_resize_color,axis=0)\n",
    "X_test_resize_color = flatten_matrix_color(X_test_resize_color)\n",
    "y_train_ohe_color = keras.utils.to_categorical(y_train_color, NUM_CLASSES)\n",
    "y_test_ohe_color = keras.utils.to_categorical(y_test_color, NUM_CLASSES)"
   ]
  },
  {
   "cell_type": "code",
   "execution_count": null,
   "metadata": {},
   "outputs": [],
   "source": [
    "X_train_resize_color.shape"
   ]
  },
  {
   "cell_type": "code",
   "execution_count": null,
   "metadata": {},
   "outputs": [],
   "source": [
    "# Future transfer learning bit"
   ]
  },
  {
   "cell_type": "markdown",
   "metadata": {},
   "source": [
    "<h2> 2.3 Resnet </h2>"
   ]
  },
  {
   "cell_type": "code",
   "execution_count": 76,
   "metadata": {},
   "outputs": [],
   "source": [
    "\n",
    "from keras.regularizers import l2\n",
    "# now lets use the LeNet architecture with batch norm\n",
    "# We will also use ReLU where approriate and drop out \n",
    "from keras.layers.normalization import BatchNormalization\n",
    "from keras.layers import Add\n",
    "from keras.models import Input, Model\n",
    "img_w = 33\n",
    "img_h = 50\n",
    "l2_lambda = 0.000001\n",
    "input_holder = Input(shape=(img_w, img_h, 3))\n",
    "\n",
    "# start with a conv layer\n",
    "x = Conv2D(filters=32,\n",
    "               input_shape = (img_w,img_h,3),\n",
    "               kernel_size=(3,3),\n",
    "               kernel_initializer='he_uniform', \n",
    "               kernel_regularizer=l2(l2_lambda),\n",
    "               padding='same', \n",
    "               activation='relu', \n",
    "               data_format=\"channels_last\")(input_holder)\n",
    "\n",
    "x = MaxPooling2D(pool_size=(2, 2), data_format=\"channels_last\")(x)\n",
    "\n",
    "x = Conv2D(filters=32,\n",
    "               kernel_size=(3,3),\n",
    "               kernel_initializer='he_uniform', \n",
    "               kernel_regularizer=l2(l2_lambda),\n",
    "               padding='same', \n",
    "               activation='relu', \n",
    "               data_format=\"channels_last\")(x)\n",
    "\n",
    "x_split = MaxPooling2D(pool_size=(2, 2), data_format=\"channels_last\")(x)\n",
    "\n",
    "x = Conv2D(filters=64,\n",
    "               kernel_size=(1,1),\n",
    "               kernel_initializer='he_uniform', \n",
    "               kernel_regularizer=l2(l2_lambda),\n",
    "               padding='same', \n",
    "               activation='relu', \n",
    "               data_format=\"channels_last\")(x_split)\n",
    "\n",
    "x = Conv2D(filters=64,\n",
    "               kernel_size=(3,3),\n",
    "               kernel_initializer='he_uniform', \n",
    "               kernel_regularizer=l2(l2_lambda),\n",
    "               padding='same', \n",
    "               activation='relu', \n",
    "               data_format=\"channels_last\")(x)\n",
    "\n",
    "x = Conv2D(filters=32,\n",
    "               kernel_size=(1,1),\n",
    "               kernel_initializer='he_uniform', \n",
    "               kernel_regularizer=l2(l2_lambda),\n",
    "               padding='same', \n",
    "               activation='relu', \n",
    "               data_format=\"channels_last\")(x)\n",
    "\n",
    "# now add back in the split layer, x_split (residual added in)\n",
    "x = Add()([x, x_split])\n",
    "x = Activation(\"relu\")(x)\n",
    "\n",
    "x = MaxPooling2D(pool_size=(2, 2), data_format=\"channels_last\")(x)\n",
    "\n",
    "x = Flatten()(x)\n",
    "x = Dropout(0.25)(x)\n",
    "x = Dense(256)(x)\n",
    "x = Activation(\"relu\")(x)\n",
    "x = Dropout(0.5)(x)\n",
    "x = Dense(5)(x)\n",
    "x = Activation('softmax')(x)\n",
    "\n",
    "resnet = Model(inputs=input_holder,outputs=x)\n",
    "\n"
   ]
  },
  {
   "cell_type": "code",
   "execution_count": 77,
   "metadata": {},
   "outputs": [],
   "source": [
    "resnet.compile(loss='categorical_crossentropy', # 'categorical_crossentropy' 'mean_squared_error'\n",
    "                optimizer='adam', # 'adadelta' 'rmsprop'\n",
    "                metrics=[ 'accuracy'])"
   ]
  },
  {
   "cell_type": "code",
   "execution_count": 79,
   "metadata": {},
   "outputs": [
    {
     "name": "stdout",
     "output_type": "stream",
     "text": [
      "Fold # 1 :\n",
      "F1 Score is  0.152067847054\n",
      "Fold # 2 :\n",
      "F1 Score is  0.138603249158\n",
      "Fold # 3 :\n",
      "F1 Score is  0.145758188598\n",
      "Fold # 4 :\n",
      "F1 Score is  0.150115775625\n",
      "Fold # 5 :\n",
      "F1 Score is  0.148173139401\n"
     ]
    }
   ],
   "source": [
    "count = 0\n",
    "for train_index, test_index in sss.split(X_split, y_split): #SSS k folds, will run and print F1 score for each\n",
    "    count = count + 1\n",
    "    print('Fold #', count, ':')\n",
    "    X_train, X_test = X[train_index], X[test_index]\n",
    "    y_train, y_test = y[train_index], y[test_index]\n",
    "#     print(X_train[0].shape)\n",
    "    X_train = [imresize(x,size=(33,50), interp='nearest') for x in X_train]\n",
    "    X_test = [imresize(x,size=(33,50), interp='nearest') for x in X_test]\n",
    "#     X_train = np.stack(X_train,axis=0)\n",
    "#     X_train = flattenMatrix(X_train)\n",
    "#     X_test = np.stack(X_test,axis=0)\n",
    "#     X_test = flattenMatrix(X_test)\n",
    "    X_train = np.array(X_train)\n",
    "    X_test = np.array(X_test)\n",
    "    y_test_ohe = np.array(y_test_ohe)\n",
    "    y_train_ohe = keras.utils.to_categorical(y_train, 5)\n",
    "    y_test_ohe = keras.utils.to_categorical(y_test, 5)\n",
    "    resnet.fit_generator(datagen.flow(X_train, y_train_ohe, batch_size=500), \n",
    "                      steps_per_epoch=int(len(X_train)/100), # how many generators to go through per epoch\n",
    "                      epochs=8, verbose=0,\n",
    "                      validation_data=(X_test,y_test_ohe)\n",
    "                     )\n",
    "    y_hat = resnet.predict(X_test)\n",
    "\n",
    "#    print(keras.backend.argmax(y_hat, axis=-1))\n",
    "    y_hat_ohe = keras.utils.to_categorical(y_hat.argmax(axis=1), 5)\n",
    "#     print(y_hat[0])\n",
    "#     print(y_hat[0].shape)\n",
    "#     print(y_hat_ohe[0])\n",
    "#     print(y_hat_ohe[0].shape)\n",
    "#     print(y_test_ohe[0])\n",
    "#     print(y_test_ohe[0].shape)\n",
    "    score = mt.f1_score(y_test_ohe, y_hat_ohe, average='weighted')\n",
    "    print('F1 Score is ', score)\n",
    "\n"
   ]
  },
  {
   "cell_type": "code",
   "execution_count": 80,
   "metadata": {},
   "outputs": [],
   "source": [
    "resnet.save('large_data/resnet_cnn.h5')"
   ]
  },
  {
   "cell_type": "code",
   "execution_count": null,
   "metadata": {},
   "outputs": [],
   "source": [
    "resnet = load_model('large_data/resnet_cnn.h5')"
   ]
  },
  {
   "cell_type": "code",
   "execution_count": 90,
   "metadata": {},
   "outputs": [],
   "source": [
    "def compare_mlp_cnn2(cnn, mlp, X_test, X_test_resnet, y_test): #new one since input for this is different than other CNN\n",
    "    plt.figure(figsize=(15,5))\n",
    "    if cnn is not None:\n",
    "        yhat_cnn = np.argmax(cnn.predict(X_test_resnet), axis=1)\n",
    "        f_cnn = mt.f1_score(y_test,yhat_cnn, average= 'weighted')\n",
    "        plt.subplot(1,2,1)\n",
    "        cm = mt.confusion_matrix(y_test,yhat_cnn)\n",
    "        cm = cm/np.sum(cm,axis=1)[:,np.newaxis]\n",
    "        sns.heatmap(cm, annot=True, fmt='.2f')\n",
    "        plt.title('CNN: '+str(f_cnn))\n",
    "    \n",
    "    if mlp is not None:\n",
    "        yhat_mlp = np.argmax(mlp.predict(X_test), axis=1)\n",
    "        f_mlp = mt.f1_score(y_test,yhat_mlp, average= 'weighted')\n",
    "        plt.subplot(1,2,2)\n",
    "        cm = mt.confusion_matrix(y_test,yhat_mlp)\n",
    "        cm = cm/np.sum(cm,axis=1)[:,np.newaxis]\n",
    "        sns.heatmap(cm,annot=True, fmt='.2f')\n",
    "        plt.title('MLP: '+str(f_mlp))"
   ]
  },
  {
   "cell_type": "code",
   "execution_count": 91,
   "metadata": {},
   "outputs": [
    {
     "data": {
      "image/png": "[encoded data removed]",
      "text/plain": [
       "<matplotlib.figure.Figure at 0x2aac49443cf8>"
      ]
     },
     "metadata": {},
     "output_type": "display_data"
    }
   ],
   "source": [
    "X_test_resize_resnet = [imresize(x,size=(33,50), interp='nearest') for x in X_test]\n",
    "\n",
    "compare_mlp_cnn2(resnet,mlp, np.array(X_test_resize), np.array(X_test_resize_resnet),y_test)"
   ]
  },
  {
   "cell_type": "code",
   "execution_count": null,
   "metadata": {},
   "outputs": [],
   "source": []
  }
 ],
 "metadata": {
  "kernelspec": {
   "display_name": "Python 3",
   "language": "python",
   "name": "python3"
  },
  "language_info": {
   "codemirror_mode": {
    "name": "ipython",
    "version": 3
   },
   "file_extension": ".py",
   "mimetype": "text/x-python",
   "name": "python",
   "nbconvert_exporter": "python",
   "pygments_lexer": "ipython3",
   "version": "3.6.2"
  }
 },
 "nbformat": 4,
 "nbformat_minor": 2
}
