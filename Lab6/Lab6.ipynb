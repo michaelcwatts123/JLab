{
 "cells": [
  {
   "cell_type": "markdown",
   "metadata": {},
   "source": [
    "<h1> Lab Six: Convolutional Network Architectures </h1>"
   ]
  },
  {
   "cell_type": "markdown",
   "metadata": {},
   "source": [
    "<h4> Adam Ashcraft, Maya Muralidhar, Nora Potenti, Michael Watts </h4>"
   ]
  },
  {
   "cell_type": "markdown",
   "metadata": {},
   "source": [
    "<h1> 1.0 Preparation </h1>"
   ]
  },
  {
   "cell_type": "markdown",
   "metadata": {},
   "source": [
    "<h2> 1.1 Business Understanding </h2>"
   ]
  },
  {
   "cell_type": "markdown",
   "metadata": {},
   "source": [
    "This is a dataset of approximately 4,300 images of flowers. These images have been taken from Flickr, Google, and Yandax and are divided into five categories: dasies, dandelions, roses, sunflowers, and tulips. The images were collected by performing a data scrape of these image hosting services by the dataset creator Alexander Mamaev. The images are in standard definition quality and do not have a standardized size. According to the Kaggle page, the data was collected to answer the question, “What kind of flower is that?” The creator also includes a prediction task for the data on Kaggle, “You can use this dataset to recognize plants from the photo.” \n",
    "\n",
    "This tool would primary serve the completely flower illiterate. It provides a very basic stepping stone into the wide world of botany for those with no experience in the field. With an application like this, a user will be able to successfully differentiate between different types of flowers based on subtler nuances than simply factors like color. Ideally, this would prevent someone from buying sunflowers instead of tulips simply because they are the same color. \n",
    "\n",
    "\n",
    "Another plant photo identification tool already exists in the market, Plantsnap. According to the Plantsnap website, it boasts a 96% success rate. In order for our tool to be considered viable, it must have at least, if not greater than, a 96% success rate.  \n",
    "\n",
    "<hr>\n",
    "Kaggle dataset: https://www.kaggle.com/alxmamaev/flowers-recognition <br>\n",
    "Plantsnap self reported success rate: https://plantsnap.com/faq/"
   ]
  },
  {
   "cell_type": "markdown",
   "metadata": {},
   "source": [
    "<h2> 1.2 Evaluation Criteria </h2>"
   ]
  },
  {
   "cell_type": "markdown",
   "metadata": {},
   "source": [
    "Before we determine our evaluation criteria, let’s take a moment to look at our data.\n"
   ]
  },
  {
   "cell_type": "code",
   "execution_count": 26,
   "metadata": {},
   "outputs": [],
   "source": [
    "import pandas as pd\n",
    "import numpy as np\n",
    "import seaborn as sns\n",
    "from matplotlib import pyplot as plt\n",
    "import os\n",
    "import glob\n",
    "import pickle\n",
    "from PIL import Image\n",
    "from matplotlib.pyplot import imshow\n",
    "from IPython.display import display\n",
    "from sklearn.model_selection import train_test_split\n",
    "import cv2\n",
    "import keras\n",
    "from keras.models import Sequential\n",
    "from keras.layers import Reshape\n",
    "from keras.layers import Dense, Dropout, Activation, Flatten\n",
    "from keras.layers import Conv2D, Conv3D, MaxPooling2D, MaxPooling3D\n",
    "from keras.preprocessing.image import ImageDataGenerator\n",
    "from keras.callbacks import EarlyStopping\n",
    "from scipy.misc import imresize\n",
    "from sklearn import metrics as mt\n"
   ]
  },
  {
   "cell_type": "code",
   "execution_count": 2,
   "metadata": {},
   "outputs": [],
   "source": [
    "#use glob to get all file names in each folder\n",
    "daisyFiles = glob.glob(\"flowers/daisy/*\")\n",
    "dandelionFiles = glob.glob(\"flowers/dandelion/*\")\n",
    "roseFiles = glob.glob(\"flowers/rose/*\")\n",
    "sunflowerFiles = glob.glob(\"flowers/sunflower/*\")\n",
    "tulipFiles = glob.glob(\"flowers/tulip/*\")\n",
    "\n",
    "daisies = []\n",
    "dandelions = []\n",
    "roses = []\n",
    "sunflowers = []\n",
    "tulips = []\n",
    "#function to take image name, open image as numpy array and add to list\n",
    "def addImageToArray(imageFileArray, imageArray):\n",
    "    for file in imageFileArray:\n",
    "        imageArray.append(np.asarray(Image.open(file)))\n",
    "        \n",
    "addImageToArray(daisyFiles,daisies)\n",
    "addImageToArray(dandelionFiles,dandelions)\n",
    "addImageToArray(roseFiles,roses)\n",
    "addImageToArray(sunflowerFiles,sunflowers)\n",
    "addImageToArray(tulipFiles,tulips)"
   ]
  },
  {
   "cell_type": "code",
   "execution_count": 6,
   "metadata": {},
   "outputs": [
    {
     "data": {
      "text/plain": [
       "([<matplotlib.patches.Wedge at 0x1a73df95c0>,\n",
       "  <matplotlib.patches.Wedge at 0x1a73df9cf8>,\n",
       "  <matplotlib.patches.Wedge at 0x1a73e014e0>,\n",
       "  <matplotlib.patches.Wedge at 0x1a73e01c88>,\n",
       "  <matplotlib.patches.Wedge at 0x1a73e0b470>],\n",
       " [Text(0.932655,0.583228,'Daisy'),\n",
       "  Text(-0.337028,1.0471,'Dandelion'),\n",
       "  Text(-1.09692,-0.08226,'Rose'),\n",
       "  Text(-0.421044,-1.01623,'Sunflower'),\n",
       "  Text(0.830539,-0.721253,'Tulip')],\n",
       " [Text(0.508721,0.318124,'17.8%'),\n",
       "  Text(-0.183834,0.571144,'24.3%'),\n",
       "  Text(-0.59832,-0.0448691,'18.1%'),\n",
       "  Text(-0.22966,-0.554307,'17.0%'),\n",
       "  Text(0.453021,-0.393411,'22.8%')])"
      ]
     },
     "execution_count": 6,
     "metadata": {},
     "output_type": "execute_result"
    },
    {
     "data": {
      "image/png": "[encoded data removed]",
      "text/plain": [
       "<Figure size 432x288 with 1 Axes>"
      ]
     },
     "metadata": {},
     "output_type": "display_data"
    }
   ],
   "source": [
    "pieValues = [len(daisies), len(dandelions), len(roses), len(sunflowers), len(tulips)]\n",
    "plt.pie(x=pieValues,labels=['Daisy', 'Dandelion', 'Rose', 'Sunflower','Tulip'], autopct='%1.1f%%')"
   ]
  },
  {
   "cell_type": "markdown",
   "metadata": {},
   "source": [
    "A false negative and a false positive both represent the same idea here, an erroneous categorization of the flower for our user. Considering the fact, we are working with total flower novices, we will want to minimize both our false positive and false negatives rates as much as possible. We cannot assume our user is knowledgeable enough to detect them himself. We must also take into account the slight class imbalance we see in the above graphic. Dandelions and Tulips represent almost 50% of the classes in the data set. In order to focus on minimizing both the false positives and false negatives as well consider the class imbalance, we will use F1 score.\n"
   ]
  },
  {
   "cell_type": "code",
   "execution_count": 11,
   "metadata": {},
   "outputs": [],
   "source": [
    "%%capture --no-display\n",
    "\n",
    "croppedDaisies = [imresize(x,size=(33,50), interp='nearest') for x in daisies]    \n",
    "\n",
    "croppedDandelions = [imresize(x,size=(33,50), interp='nearest') for x in dandelions]   \n",
    "\n",
    "croppedRoses =[imresize(x,size=(33,50), interp='nearest') for x in roses]  \n",
    "\n",
    "croppedSunflowers = [imresize(x,size=(33,50), interp='nearest') for x in sunflowers]    \n",
    "\n",
    "croppedTulips = [imresize(x,size=(33,50), interp='nearest') for x in tulips] "
   ]
  },
  {
   "cell_type": "markdown",
   "metadata": {},
   "source": [
    "<h2> 1.2 Data Division </h2>"
   ]
  },
  {
   "cell_type": "markdown",
   "metadata": {},
   "source": [
    "For our data division, we will be using a stratified shuffle split. The stratification will correct for the class imbalance of the data. The data is currently grouped into 5 groups, 1 per class. This is not an accurate reflection of how our model will be used. It is highly unlikely that the application will only ever see one kind of flower at a time, iteration after iteration. It will more than likely be exposed to a wide variety of flower with every use. In order to better model this, the data will be shuffled in order to split the groups of classes up and distribute them among the k-folds. \n"
   ]
  },
  {
   "cell_type": "code",
   "execution_count": 12,
   "metadata": {},
   "outputs": [
    {
     "name": "stdout",
     "output_type": "stream",
     "text": [
      "4323\n"
     ]
    }
   ],
   "source": [
    "\n",
    "X = np.array(croppedDaisies + croppedTulips + croppedDandelions + croppedRoses + croppedSunflowers)\n"
   ]
  },
  {
   "cell_type": "markdown",
   "metadata": {},
   "source": [
    "<h1> 2.0 Convolutional Neural Nets </h1>"
   ]
  },
  {
   "cell_type": "markdown",
   "metadata": {},
   "source": [
    "<h2> 2.1 Data Expansion </h2>"
   ]
  },
  {
   "cell_type": "markdown",
   "metadata": {},
   "source": [
    "We will want to assume that our photographer has no idea what features he is trying to capture in the image. This means he does not know good angles, lighting, or focus for his flower photograph. In order to mirror an amateur as much as possible with our data, we will create a wide variety of augmentations with our data generator.   \n"
   ]
  },
  {
   "cell_type": "code",
   "execution_count": 14,
   "metadata": {},
   "outputs": [],
   "source": [
    "from keras.preprocessing.image import ImageDataGenerator\n",
    "datagen = ImageDataGenerator(featurewise_center=False,\n",
    "    samplewise_center=False,\n",
    "    featurewise_std_normalization=False, #adding to each pixel\n",
    "    samplewise_std_normalization=False, #adding to each picture\n",
    "    zca_whitening=False,\n",
    "    rotation_range=180, # used, Int. Degree range for random rotations.\n",
    "    width_shift_range=0.5, # used, Float (fraction of total width). Range for random horizontal shifts.\n",
    "    height_shift_range=0.5, # used,  Float (fraction of total height). Range for random vertical shifts.\n",
    "    shear_range=0., # Float. Shear Intensity (Shear angle in counter-clockwise direction as radians)\n",
    "    zoom_range=0.,\n",
    "    channel_shift_range=0.,\n",
    "    fill_mode='nearest',\n",
    "    cval=0.,\n",
    "    horizontal_flip=True,\n",
    "    vertical_flip=False,\n",
    "    rescale=None)"
   ]
  },
  {
   "cell_type": "markdown",
   "metadata": {},
   "source": [
    "<h2> 2.2 Simple CNN </h2>"
   ]
  },
  {
   "cell_type": "code",
   "execution_count": 18,
   "metadata": {},
   "outputs": [
    {
     "name": "stderr",
     "output_type": "stream",
     "text": [
      "/anaconda3/envs/mlenv/lib/python3.6/site-packages/ipykernel_launcher.py:4: DeprecationWarning: `imresize` is deprecated!\n",
      "`imresize` is deprecated in SciPy 1.0.0, and will be removed in 1.2.0.\n",
      "Use ``skimage.transform.resize`` instead.\n",
      "  after removing the cwd from sys.path.\n"
     ]
    },
    {
     "ename": "NameError",
     "evalue": "name 'flattenMatrix' is not defined",
     "output_type": "error",
     "traceback": [
      "\u001b[0;31m---------------------------------------------------------------------------\u001b[0m",
      "\u001b[0;31mNameError\u001b[0m                                 Traceback (most recent call last)",
      "\u001b[0;32m<ipython-input-18-2d8245f7c155>\u001b[0m in \u001b[0;36m<module>\u001b[0;34m()\u001b[0m\n\u001b[1;32m      4\u001b[0m \u001b[0mX_train_resize\u001b[0m \u001b[0;34m=\u001b[0m \u001b[0;34m[\u001b[0m\u001b[0mimresize\u001b[0m\u001b[0;34m(\u001b[0m\u001b[0mx\u001b[0m\u001b[0;34m,\u001b[0m\u001b[0msize\u001b[0m\u001b[0;34m=\u001b[0m\u001b[0;34m(\u001b[0m\u001b[0;36m33\u001b[0m\u001b[0;34m,\u001b[0m\u001b[0;36m50\u001b[0m\u001b[0;34m)\u001b[0m\u001b[0;34m,\u001b[0m \u001b[0minterp\u001b[0m\u001b[0;34m=\u001b[0m\u001b[0;34m'nearest'\u001b[0m\u001b[0;34m)\u001b[0m \u001b[0;32mfor\u001b[0m \u001b[0mx\u001b[0m \u001b[0;32min\u001b[0m \u001b[0mX_train\u001b[0m\u001b[0;34m]\u001b[0m\u001b[0;34m\u001b[0m\u001b[0m\n\u001b[1;32m      5\u001b[0m \u001b[0mX_train_resize\u001b[0m \u001b[0;34m=\u001b[0m \u001b[0mnp\u001b[0m\u001b[0;34m.\u001b[0m\u001b[0mstack\u001b[0m\u001b[0;34m(\u001b[0m\u001b[0mX_train_resize\u001b[0m\u001b[0;34m,\u001b[0m\u001b[0maxis\u001b[0m\u001b[0;34m=\u001b[0m\u001b[0;36m0\u001b[0m\u001b[0;34m)\u001b[0m\u001b[0;34m\u001b[0m\u001b[0m\n\u001b[0;32m----> 6\u001b[0;31m \u001b[0mX_train_resize\u001b[0m \u001b[0;34m=\u001b[0m \u001b[0mflattenMatrix\u001b[0m\u001b[0;34m(\u001b[0m\u001b[0mX_train_resize\u001b[0m\u001b[0;34m)\u001b[0m\u001b[0;34m\u001b[0m\u001b[0m\n\u001b[0m\u001b[1;32m      7\u001b[0m \u001b[0mX_test_resize\u001b[0m \u001b[0;34m=\u001b[0m \u001b[0;34m[\u001b[0m\u001b[0mimresize\u001b[0m\u001b[0;34m(\u001b[0m\u001b[0mx\u001b[0m\u001b[0;34m,\u001b[0m\u001b[0msize\u001b[0m\u001b[0;34m=\u001b[0m\u001b[0;34m(\u001b[0m\u001b[0;36m33\u001b[0m\u001b[0;34m,\u001b[0m\u001b[0;36m50\u001b[0m\u001b[0;34m)\u001b[0m\u001b[0;34m,\u001b[0m \u001b[0minterp\u001b[0m\u001b[0;34m=\u001b[0m\u001b[0;34m'nearest'\u001b[0m\u001b[0;34m)\u001b[0m \u001b[0;32mfor\u001b[0m \u001b[0mx\u001b[0m \u001b[0;32min\u001b[0m \u001b[0mX_test\u001b[0m\u001b[0;34m]\u001b[0m\u001b[0;34m\u001b[0m\u001b[0m\n\u001b[1;32m      8\u001b[0m \u001b[0mX_test_resize\u001b[0m \u001b[0;34m=\u001b[0m \u001b[0mnp\u001b[0m\u001b[0;34m.\u001b[0m\u001b[0mstack\u001b[0m\u001b[0;34m(\u001b[0m\u001b[0mX_test_resize\u001b[0m\u001b[0;34m,\u001b[0m\u001b[0maxis\u001b[0m\u001b[0;34m=\u001b[0m\u001b[0;36m0\u001b[0m\u001b[0;34m)\u001b[0m\u001b[0;34m\u001b[0m\u001b[0m\n",
      "\u001b[0;31mNameError\u001b[0m: name 'flattenMatrix' is not defined"
     ]
    }
   ],
   "source": [
    "y = np.array(len(croppedDaisies)*[0] + len(croppedTulips)*[1] + len(croppedDandelions)*[2] + len(croppedRoses)*[3] + len(croppedSunflowers)*[4])\n",
    "X_train, X_test, y_train, y_test = train_test_split(X, y, test_size=0.2)\n",
    "NUM_CLASSES = 5 \n",
    "X_train_resize = [imresize(x,size=(33,50), interp='nearest') for x in X_train]\n",
    "X_train_resize = np.stack(X_train_resize,axis=0)\n",
    "X_train_resize = flattenMatrix(X_train_resize)\n",
    "X_test_resize = [imresize(x,size=(33,50), interp='nearest') for x in X_test]\n",
    "X_test_resize = np.stack(X_test_resize,axis=0)\n",
    "X_test_resize = flattenMatrix(X_test_resize)\n",
    "y_train_ohe = keras.utils.to_categorical(y_train, NUM_CLASSES)\n",
    "y_test_ohe = keras.utils.to_categorical(y_test, NUM_CLASSES)\n",
    "print(len(X_test_resize[0]))"
   ]
  },
  {
   "cell_type": "code",
   "execution_count": 8,
   "metadata": {},
   "outputs": [
    {
     "data": {
      "text/plain": [
       "<keras.callbacks.History at 0x192b1e83208>"
      ]
     },
     "execution_count": 8,
     "metadata": {},
     "output_type": "execute_result"
    }
   ],
   "source": [
    "mlp = Sequential()\n",
    "mlp.add( Dense(input_dim=len(X_train_resize[0]), units=100, activation='relu') )\n",
    "mlp.add( Dense(units=50, activation='relu') )\n",
    "mlp.add( Dense(NUM_CLASSES) )\n",
    "mlp.add( Activation('softmax') )\n",
    "\n",
    "mlp.compile(loss='categorical_crossentropy',\n",
    "              optimizer='adamax',\n",
    "              metrics=['accuracy'])\n",
    "\n",
    "mlp.fit(np.array(X_train_resize), y_train_ohe, \n",
    "        batch_size=32, epochs=150, \n",
    "        shuffle=True, verbose=0)"
   ]
  },
  {
   "cell_type": "code",
   "execution_count": 9,
   "metadata": {},
   "outputs": [
    {
     "data": {
      "text/plain": [
       "<keras.callbacks.History at 0x192b4b64e80>"
      ]
     },
     "execution_count": 9,
     "metadata": {},
     "output_type": "execute_result"
    }
   ],
   "source": [
    "cnn = Sequential()\n",
    "cnn.add(Reshape((1,33,50), input_shape=(1,1650)))\n",
    "cnn.add(Conv2D(filters=16, kernel_size= (10, 10), padding='same', input_shape=(1,33,50)))\n",
    "cnn.add(Conv2D(filters=24, \n",
    "                    kernel_size=(3,3), \n",
    "                    padding='same', \n",
    "                    activation='relu'))\n",
    "cnn.add(Activation('relu'))\n",
    "cnn.add(MaxPooling2D(pool_size=(3, 5), data_format=\"channels_first\"))\n",
    "# add one layer on flattened output\n",
    "cnn.add(Dropout(0.25))\n",
    "cnn.add(Flatten())\n",
    "cnn.add(Dense(100, activation='relu'))\n",
    "cnn.add(Dropout(0.5)) # add some dropout for regularization, again!\n",
    "cnn.add(Dense(NUM_CLASSES))\n",
    "cnn.add(Activation('softmax'))\n",
    "\n",
    "# Let's train the model \n",
    "cnn.compile(loss='categorical_crossentropy',\n",
    "              optimizer='adamax',\n",
    "              metrics=['accuracy'])\n",
    "\n",
    "# we need to exapnd the dimensions here to give the \n",
    "#   \"channels\" dimension expected by Keras\n",
    "cnn.fit(np.expand_dims(X_train_resize, axis=1), y_train_ohe, \n",
    "        batch_size=32, epochs=150, \n",
    "        shuffle=True, verbose=0)"
   ]
  },
  {
   "cell_type": "code",
   "execution_count": 10,
   "metadata": {},
   "outputs": [],
   "source": [
    "\n",
    "from matplotlib import pyplot as plt\n",
    "import seaborn as sns\n",
    "%matplotlib inline\n",
    "\n",
    "def compare_mlp_cnn(cnn, mlp, X_test, y_test):\n",
    "    plt.figure(figsize=(15,5))\n",
    "    if cnn is not None:\n",
    "        yhat_cnn = np.argmax(cnn.predict(np.expand_dims(X_test, axis=1)), axis=1)\n",
    "        f_cnn = mt.f1_score(y_test,yhat_cnn, average= 'samples')\n",
    "        plt.subplot(1,2,1)\n",
    "        cm = mt.confusion_matrix(y_test,yhat_cnn)\n",
    "        cm = cm/np.sum(cm,axis=1)[:,np.newaxis]\n",
    "        sns.heatmap(cm, annot=True, fmt='.2f')\n",
    "        plt.title('CNN: '+str(f_cnn))\n",
    "    \n",
    "    if mlp is not None:\n",
    "        yhat_mlp = np.argmax(mlp.predict(X_test), axis=1)\n",
    "        f_mlp = mt.f1_score(y_test,yhat_mlp, , average= 'samples')\n",
    "        plt.subplot(1,2,2)\n",
    "        cm = mt.confusion_matrix(y_test,yhat_mlp)\n",
    "        cm = cm/np.sum(cm,axis=1)[:,np.newaxis]\n",
    "        sns.heatmap(cm,annot=True, fmt='.2f')\n",
    "        plt.title('MLP: '+str(f_mlp))"
   ]
  },
  {
   "cell_type": "code",
   "execution_count": 11,
   "metadata": {},
   "outputs": [
    {
     "data": {
      "image/png": "[encoded data removed]",
      "text/plain": [
       "<Figure size 1080x360 with 4 Axes>"
      ]
     },
     "metadata": {},
     "output_type": "display_data"
    }
   ],
   "source": [
    "compare_mlp_cnn(cnn,mlp, np.array(X_test_resize),y_test)"
   ]
  },
  {
   "cell_type": "code",
   "execution_count": 12,
   "metadata": {},
   "outputs": [],
   "source": [
    "daisies_color = [cv2.imread(img, 1) for img in daisyFiles]\n",
    "dandelions_color = [cv2.imread(img, 1) for img in dandelionFiles]\n",
    "roses_color = [cv2.imread(img, 1) for img in roseFiles]\n",
    "sunflowers_color = [cv2.imread(img, 1) for img in sunflowerFiles]\n",
    "tulips_color = [cv2.imread(img, 1) for img in tulipFiles]"
   ]
  },
  {
   "cell_type": "code",
   "execution_count": 13,
   "metadata": {},
   "outputs": [
    {
     "data": {
      "text/plain": [
       "(330, 500, 3)"
      ]
     },
     "execution_count": 13,
     "metadata": {},
     "output_type": "execute_result"
    }
   ],
   "source": [
    "def matrix_resize_color(arrayToAlter):\n",
    "    croppedImages = []\n",
    "    for i in range(0, len(arrayToAlter)):\n",
    "        if(arrayToAlter[i].shape[0] >= 244 and arrayToAlter[i].shape[1] >= 327):\n",
    "            #crop image\n",
    "            image = arrayToAlter[i][0:244, 0:327]\n",
    "            #final resize to ensure all matricies are the same size and remove any extra data from converting\n",
    "            croppedImages.append(cv2.resize(image, (500, 330), interpolation = cv2.INTER_AREA))\n",
    "    return croppedImages\n",
    "cropped_daisies_color = matrix_resize_color(daisies_color)\n",
    "cropped_dandelions_color = matrix_resize_color(dandelions_color)\n",
    "cropped_roses_color = matrix_resize_color(roses_color)\n",
    "cropped_sunflowers_color = matrix_resize_color(sunflowers_color)\n",
    "cropped_tulips_color = matrix_resize_color(tulips_color)\n",
    "cropped_daisies_color[0].shape"
   ]
  },
  {
   "cell_type": "code",
   "execution_count": 14,
   "metadata": {},
   "outputs": [
    {
     "name": "stderr",
     "output_type": "stream",
     "text": [
      "C:\\Users\\mayam\\Anaconda3\\lib\\site-packages\\ipykernel_launcher.py:15: DeprecationWarning: `imresize` is deprecated!\n",
      "`imresize` is deprecated in SciPy 1.0.0, and will be removed in 1.2.0.\n",
      "Use ``skimage.transform.resize`` instead.\n",
      "  from ipykernel import kernelapp as app\n",
      "C:\\Users\\mayam\\Anaconda3\\lib\\site-packages\\ipykernel_launcher.py:18: DeprecationWarning: `imresize` is deprecated!\n",
      "`imresize` is deprecated in SciPy 1.0.0, and will be removed in 1.2.0.\n",
      "Use ``skimage.transform.resize`` instead.\n"
     ]
    }
   ],
   "source": [
    "def flatten_matrix_color(array_of_matrices):\n",
    "    total_array = []\n",
    "    flattened_array = []\n",
    "    for i in range(0, 3):\n",
    "        for m in array_of_matrices:\n",
    "            flattened_array.append(m[:,:,i].flatten())\n",
    "        total_array.append(np.array(flattened_array))\n",
    "        flattened_array = []\n",
    "    return np.array(total_array).reshape(len(array_of_matrices), 3, int(array_of_matrices[0].size/3))\n",
    "\n",
    "X_color = np.array(cropped_daisies_color + cropped_tulips_color + cropped_dandelions_color + cropped_roses_color + cropped_sunflowers_color)\n",
    "# y is still y\n",
    "X_train_color, X_test_color, y_train_color, y_test_color = train_test_split(X_color, y, test_size=0.2)\n",
    "NUM_CLASSES = 5 \n",
    "X_train_resize_color = [imresize(x,size=(33,50, 3), interp='nearest') for x in X_train_color]\n",
    "X_train_resize_color = np.stack(X_train_resize_color,axis=0)\n",
    "X_train_resize_color = flatten_matrix_color(X_train_resize_color)\n",
    "X_test_resize_color = [imresize(x,size=(33,50, 3), interp='nearest') for x in X_test_color]\n",
    "X_test_resize_color = np.stack(X_test_resize_color,axis=0)\n",
    "X_test_resize_color = flatten_matrix_color(X_test_resize_color)\n",
    "y_train_ohe_color = keras.utils.to_categorical(y_train_color, NUM_CLASSES)\n",
    "y_test_ohe_color = keras.utils.to_categorical(y_test_color, NUM_CLASSES)"
   ]
  },
  {
   "cell_type": "code",
   "execution_count": 15,
   "metadata": {},
   "outputs": [
    {
     "data": {
      "text/plain": [
       "(1044, 3, 1650)"
      ]
     },
     "execution_count": 15,
     "metadata": {},
     "output_type": "execute_result"
    }
   ],
   "source": [
    "X_train_resize_color.shape"
   ]
  },
  {
   "cell_type": "code",
   "execution_count": 16,
   "metadata": {},
   "outputs": [],
   "source": [
    "# Future transfer learning bit"
   ]
  },
  {
   "cell_type": "markdown",
   "metadata": {},
   "source": [
    "<h2> 2.3 Resnet </h2>"
   ]
  },
  {
   "cell_type": "code",
   "execution_count": null,
   "metadata": {},
   "outputs": [],
   "source": []
  },
  {
   "cell_type": "code",
   "execution_count": 31,
   "metadata": {},
   "outputs": [],
   "source": []
  },
  {
   "cell_type": "code",
   "execution_count": null,
   "metadata": {},
   "outputs": [],
   "source": []
  }
 ],
 "metadata": {
  "kernelspec": {
   "display_name": "Python 3",
   "language": "python",
   "name": "python3"
  },
  "language_info": {
   "codemirror_mode": {
    "name": "ipython",
    "version": 3
   },
   "file_extension": ".py",
   "mimetype": "text/x-python",
   "name": "python",
   "nbconvert_exporter": "python",
   "pygments_lexer": "ipython3",
   "version": "3.6.5"
  }
 },
 "nbformat": 4,
 "nbformat_minor": 2
}
