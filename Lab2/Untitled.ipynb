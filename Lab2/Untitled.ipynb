{
 "cells": [
  {
   "cell_type": "markdown",
   "metadata": {},
   "source": [
    "<h1>2.0 Data Preparation </h1>"
   ]
  },
  {
   "cell_type": "code",
   "execution_count": 26,
   "metadata": {},
   "outputs": [],
   "source": [
    "import pandas as pd\n",
    "import numpy as np\n",
    "import os\n",
    "import glob\n",
    "from PIL import Image\n",
    "\n",
    "daisyFiles = glob.glob(\"flowers/daisy/*\")\n",
    "dandelionFiles = glob.glob(\"flowers/dandelion/*\")\n",
    "roseFiles = glob.glob(\"flowers/rose/*\")\n",
    "sunflowerFiles = glob.glob(\"flowers/sunflower/*\")\n",
    "tulipFiles = glob.glob(\"flowers/tulip/*\")\n",
    "\n",
    "daisies = []\n",
    "dandelions = []\n",
    "roses = []\n",
    "sunflowers = []\n",
    "tulips = []\n",
    "\n",
    "def addImageToArray(imageFileArray, imageArray):\n",
    "    for file in imageFileArray:\n",
    "        print(file)\n",
    "        \n",
    "addImageToArray(daisyFiles,daisies)\n",
    "\n"
   ]
  },
  {
   "cell_type": "code",
   "execution_count": null,
   "metadata": {},
   "outputs": [],
   "source": []
  }
 ],
 "metadata": {
  "kernelspec": {
   "display_name": "Python 3",
   "language": "python",
   "name": "python3"
  },
  "language_info": {
   "codemirror_mode": {
    "name": "ipython",
    "version": 3
   },
   "file_extension": ".py",
   "mimetype": "text/x-python",
   "name": "python",
   "nbconvert_exporter": "python",
   "pygments_lexer": "ipython3",
   "version": "3.6.5"
  }
 },
 "nbformat": 4,
 "nbformat_minor": 2
}
