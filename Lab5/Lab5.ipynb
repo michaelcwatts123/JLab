{
 "cells": [
  {
   "cell_type": "markdown",
   "metadata": {},
   "source": [
    "<h1>Lab Five: Wide and Deep Networks</h1>\n",
    "<b>By Michael Watts, Maya Muralidhar, Nora Potenti, and Adam Ashcraft </b>"
   ]
  },
  {
   "cell_type": "markdown",
   "metadata": {},
   "source": [
    "<h2> 1.0 Preparation </h2>"
   ]
  },
  {
   "cell_type": "markdown",
   "metadata": {},
   "source": [
    "<h3> 1.1 Business Understanding </h3>"
   ]
  },
  {
   "cell_type": "markdown",
   "metadata": {},
   "source": [
    "Our data set for this lab is a collection of synthetic online transactions produced by The PaySim simulator and collected by the Norwegian University of Science and Technology. The simulation was created based on real financial data for a multinational company. It is categorized by the type of the transaction (i.e. a payment, transfer, etc.), the original balance before and after the transaction of the source account, the balance before and after the transaction of the destination account, and if the transaction was actually fraud. It is also marked by several other categories not useful for this use case. As more and more transactions shift from the physical space to the digital space, it becomes more important for financial institutions to be able to detect and deny fraudulent charges. As the number of digital transactions increases, the amount of data to parse to determine the legitimacy of a transaction increases to the point where these companies could not afford humans to do the fraud detection. This is where our model would come in, as an efficient learning tool able to detect and mark fraud for these institutions. Romexsoft, a company that helps develop fraud detection models, boast a 98% fraud detection rate. For our model to be a success, it must detect at or above this rate. \n",
    "<hr>\n",
    "Kaggle link: https://www.kaggle.com/ntnu-testimon/paysim1/home  <br>\n",
    "Romexsoft: https://www.romexsoft.com/blog/credit-card-fraud-detection-in-banking/"
   ]
  },
  {
   "cell_type": "markdown",
   "metadata": {},
   "source": [
    "<h3> 1.2 Data Cleaning </h3>"
   ]
  },
  {
   "cell_type": "code",
   "execution_count": 1,
   "metadata": {},
   "outputs": [],
   "source": [
    "import numpy as np\n",
    "import pandas as pd\n",
    "import matplotlib.pyplot as plt\n",
    "import seaborn as sns\n",
    "import sklearn as skl\n",
    "import pickle\n",
    "import warnings\n",
    "from sklearn.metrics import make_scorer, accuracy_score\n",
    "from sklearn.metrics import precision_score, recall_score, f1_score\n",
    "from sklearn.decomposition import PCA\n",
    "from sklearn.preprocessing import StandardScaler\n",
    "from sklearn.pipeline import Pipeline\n",
    "from sklearn.model_selection import cross_val_score\n",
    "from scipy.special import expit\n",
    "from sklearn.model_selection import StratifiedKFold, StratifiedShuffleSplit\n",
    "import missingno as mn\n",
    "import sys"
   ]
  },
  {
   "cell_type": "code",
   "execution_count": 2,
   "metadata": {},
   "outputs": [
    {
     "name": "stdout",
     "output_type": "stream",
     "text": [
      "<class 'pandas.core.frame.DataFrame'>\n",
      "RangeIndex: 6362620 entries, 0 to 6362619\n",
      "Data columns (total 11 columns):\n",
      "step              int64\n",
      "type              object\n",
      "amount            float64\n",
      "nameOrig          object\n",
      "oldbalanceOrg     float64\n",
      "newbalanceOrig    float64\n",
      "nameDest          object\n",
      "oldbalanceDest    float64\n",
      "newbalanceDest    float64\n",
      "isFraud           int64\n",
      "isFlaggedFraud    int64\n",
      "dtypes: float64(5), int64(3), object(3)\n",
      "memory usage: 534.0+ MB\n"
     ]
    }
   ],
   "source": [
    "finData = pd.read_csv('data/PS_20174392719_1491204439457_log.csv') #load the data\n",
    "finData.info()"
   ]
  },
  {
   "cell_type": "markdown",
   "metadata": {},
   "source": [
    "Let's begin by removing some of the columns we will not be using. After this, we will convert the oldbalanceOrg and newbalanceOrig into one column that reflects the change the original account balance, called Org_Account_Delta. If it is an increase in account balance, we will make it a 1. If it is a decrease we will make it a negative 1. No change will be a 0. We will do the same thing for oldbalanceDest and newbalanceDest in Dest_Account_Delta. Finally, we will encode the one-hot encode the 6 types: CASH-IN, CASH-OUT, NAN, DEBIT, PAYMENT and TRANSFER. If a transaction is fraudulent, in the isFraud column, it will be marked as 1."
   ]
  },
  {
   "cell_type": "code",
   "execution_count": 3,
   "metadata": {},
   "outputs": [
    {
     "name": "stdout",
     "output_type": "stream",
     "text": [
      "<class 'pandas.core.frame.DataFrame'>\n",
      "RangeIndex: 6362620 entries, 0 to 6362619\n",
      "Data columns (total 7 columns):\n",
      "type                  int64\n",
      "amount                float64\n",
      "oldbalanceOrg         float64\n",
      "oldbalanceDest        float64\n",
      "isFraud               int64\n",
      "Org_Account_Delta     int64\n",
      "Dest_Account_Delta    int64\n",
      "dtypes: float64(3), int64(4)\n",
      "memory usage: 339.8 MB\n"
     ]
    }
   ],
   "source": [
    "finData.drop(columns=['step', 'nameOrig', 'nameDest', 'isFlaggedFraud'], inplace=True)\n",
    "def calcChange1(row):\n",
    "    change = row.newbalanceOrig - row.oldbalanceOrg\n",
    "    if(change > 0):\n",
    "        return int(1)\n",
    "    if(change < 0):\n",
    "        return int(-1)\n",
    "    if(change == 0):\n",
    "        return int(0)\n",
    "def calcChange2(row):\n",
    "    change = row.newbalanceDest - row.oldbalanceDest\n",
    "    if(change > 0):\n",
    "        return int(1)\n",
    "    if(change < 0):\n",
    "        return int(-1)\n",
    "    if(change == 0):\n",
    "        return int(0)\n",
    "finData['Org_Account_Delta'] = finData.apply(calcChange1, axis=1)\n",
    "finData['Dest_Account_Delta'] = finData.apply(calcChange2, axis=1)\n",
    "finData.drop(columns=['newbalanceOrig', 'newbalanceDest'], inplace=True)\n",
    "def setType(x):\n",
    "    if x == 'CASH-IN':\n",
    "        return int(0)\n",
    "    if x == 'CASH-OUT':\n",
    "        return int(1)\n",
    "    if x == 'DEBIT':\n",
    "        return int(2)\n",
    "    if x == 'PAYMENT':\n",
    "        return int(3)\n",
    "    if x == 'TRANSFER':\n",
    "        return int(4)\n",
    "    else:\n",
    "        return int(5)\n",
    "finData['type'] = finData['type'].apply(setType)\n",
    "finData.info()"
   ]
  },
  {
   "cell_type": "markdown",
   "metadata": {},
   "source": [
    "Now let's pickle our data for faster reterival. "
   ]
  },
  {
   "cell_type": "code",
   "execution_count": 4,
   "metadata": {},
   "outputs": [],
   "source": [
    "pickle.dump(finData, open( 'pickledData/finData.p', 'wb' ))"
   ]
  },
  {
   "cell_type": "code",
   "execution_count": 5,
   "metadata": {},
   "outputs": [],
   "source": [
    "finData = pickle.load(open( 'pickledData/finData.p', 'rb' ))"
   ]
  },
  {
   "cell_type": "code",
   "execution_count": 6,
   "metadata": {},
   "outputs": [
    {
     "data": {
      "text/html": [
       "<div>\n",
       "<style scoped>\n",
       "    .dataframe tbody tr th:only-of-type {\n",
       "        vertical-align: middle;\n",
       "    }\n",
       "\n",
       "    .dataframe tbody tr th {\n",
       "        vertical-align: top;\n",
       "    }\n",
       "\n",
       "    .dataframe thead th {\n",
       "        text-align: right;\n",
       "    }\n",
       "</style>\n",
       "<table border=\"1\" class=\"dataframe\">\n",
       "  <thead>\n",
       "    <tr style=\"text-align: right;\">\n",
       "      <th></th>\n",
       "      <th>type</th>\n",
       "      <th>amount</th>\n",
       "      <th>oldbalanceOrg</th>\n",
       "      <th>oldbalanceDest</th>\n",
       "      <th>isFraud</th>\n",
       "      <th>Org_Account_Delta</th>\n",
       "      <th>Dest_Account_Delta</th>\n",
       "    </tr>\n",
       "  </thead>\n",
       "  <tbody>\n",
       "    <tr>\n",
       "      <th>0</th>\n",
       "      <td>3</td>\n",
       "      <td>9839.64</td>\n",
       "      <td>170136.0</td>\n",
       "      <td>0.0</td>\n",
       "      <td>0</td>\n",
       "      <td>-1</td>\n",
       "      <td>0</td>\n",
       "    </tr>\n",
       "    <tr>\n",
       "      <th>1</th>\n",
       "      <td>3</td>\n",
       "      <td>1864.28</td>\n",
       "      <td>21249.0</td>\n",
       "      <td>0.0</td>\n",
       "      <td>0</td>\n",
       "      <td>-1</td>\n",
       "      <td>0</td>\n",
       "    </tr>\n",
       "    <tr>\n",
       "      <th>2</th>\n",
       "      <td>4</td>\n",
       "      <td>181.00</td>\n",
       "      <td>181.0</td>\n",
       "      <td>0.0</td>\n",
       "      <td>1</td>\n",
       "      <td>-1</td>\n",
       "      <td>0</td>\n",
       "    </tr>\n",
       "    <tr>\n",
       "      <th>3</th>\n",
       "      <td>5</td>\n",
       "      <td>181.00</td>\n",
       "      <td>181.0</td>\n",
       "      <td>21182.0</td>\n",
       "      <td>1</td>\n",
       "      <td>-1</td>\n",
       "      <td>-1</td>\n",
       "    </tr>\n",
       "    <tr>\n",
       "      <th>4</th>\n",
       "      <td>3</td>\n",
       "      <td>11668.14</td>\n",
       "      <td>41554.0</td>\n",
       "      <td>0.0</td>\n",
       "      <td>0</td>\n",
       "      <td>-1</td>\n",
       "      <td>0</td>\n",
       "    </tr>\n",
       "  </tbody>\n",
       "</table>\n",
       "</div>"
      ],
      "text/plain": [
       "   type    amount  oldbalanceOrg  oldbalanceDest  isFraud  Org_Account_Delta  \\\n",
       "0     3   9839.64       170136.0             0.0        0                 -1   \n",
       "1     3   1864.28        21249.0             0.0        0                 -1   \n",
       "2     4    181.00          181.0             0.0        1                 -1   \n",
       "3     5    181.00          181.0         21182.0        1                 -1   \n",
       "4     3  11668.14        41554.0             0.0        0                 -1   \n",
       "\n",
       "   Dest_Account_Delta  \n",
       "0                   0  \n",
       "1                   0  \n",
       "2                   0  \n",
       "3                  -1  \n",
       "4                   0  "
      ]
     },
     "execution_count": 6,
     "metadata": {},
     "output_type": "execute_result"
    }
   ],
   "source": [
    "finData.head()"
   ]
  },
  {
   "cell_type": "code",
   "execution_count": 7,
   "metadata": {},
   "outputs": [
    {
     "name": "stdout",
     "output_type": "stream",
     "text": [
      "<module 'missingno' from 'C:\\\\Users\\\\mayam\\\\Anaconda3\\\\lib\\\\site-packages\\\\missingno\\\\__init__.py'>\n"
     ]
    },
    {
     "data": {
      "image/png": "[encoded data removed]",
      "text/plain": [
       "<Figure size 1800x720 with 2 Axes>"
      ]
     },
     "metadata": {},
     "output_type": "display_data"
    }
   ],
   "source": [
    "mn.matrix(finData)\n",
    "print(mn)"
   ]
  },
  {
   "cell_type": "markdown",
   "metadata": {},
   "source": [
    "We now have no missing data that needs to be imputed. We have our Y target, isFraud. We also have the type of transaction and the amount of each transaction. We have generated columns to show the change in each account with each transaction as well. Finally, we also know the account balance for the origin and destination accounts before each transaction. "
   ]
  },
  {
   "cell_type": "markdown",
   "metadata": {},
   "source": [
    "<h3> 1.3 Cross-Product Features </h3>"
   ]
  },
  {
   "cell_type": "markdown",
   "metadata": {},
   "source": [
    "First, we would recommend crossing oldbalanceOrg with Dest_Account_Delta. This could reveal a correlation between accounts with high initial balances and increases in destination account balances. Scammers would logically want to target accounts with high balances as these accounts would have the most to possible steal. We could also cross amount, type, and Dest_Account_Delta. A scammer would want to have the biggest transactions possible that do not raise alarms with the banks. Most banks would have similar metrics for this, leaving the largest possible fraudulent transaction hovering around a similar safe value. Scammers may also favor certain types of transfer that would have higher potential limits. There could be a correlation between this value appearing, the method of transfer, and money transferred into destination accounts which implies fraud. Finally, we will cross oldbalanceOrg and oldbalanceDest. A scammer may open up new accounts with low balances under fake names and using these accounts to hold the money from the targeted high vauled real accounts. This will show us if there is a correlation in transactions between high source accounts and low scammer bank accounts.\n",
    " \n"
   ]
  },
  {
   "cell_type": "code",
   "execution_count": 8,
   "metadata": {},
   "outputs": [],
   "source": [
    "cross_product_sets= [['oldbalanceOrg', 'Dest_Account_Delta'], \n",
    "                     ['amount', 'type', 'Dest_Account_Delta'], \n",
    "                    ['oldbalanceOrg', 'oldbalanceDest']]"
   ]
  },
  {
   "cell_type": "markdown",
   "metadata": {},
   "source": [
    "<h3> 1.4 Evaluation Criteria </h3>"
   ]
  },
  {
   "cell_type": "markdown",
   "metadata": {},
   "source": [
    "For our evaluation criteria, we will be focused on recall. Recall focuses on the amount of false negatives achieved. In this instance a false negative means marking a fraudulent transaction as a genuine one. A false positive means we have marked a genuine transaction as a fraudulent one. In a false positive scenario, the client may be slightly inconvenienced. He would have to call the bank and ensure the proper funds are released. In a false negative situation, the client’s money has been illegally transferred from his account and is most likely lost to him forever. The bank will have to spend time both reimbursing his account and filing the proper paperwork about the fraudulent attempt. The client will be unhappy the bank has not properly secured his money and the criminal has just successful conned the bank. In order to prevent what would be the worse case scenario for a mislabeled transaction, we will focus on keeping our recall and subsequently our false negative rate low.\n"
   ]
  },
  {
   "cell_type": "code",
   "execution_count": 9,
   "metadata": {},
   "outputs": [],
   "source": [
    "my_scorer = make_scorer(recall_score)"
   ]
  },
  {
   "cell_type": "markdown",
   "metadata": {},
   "source": [
    "<h3> 1.5 Data Division <h3>"
   ]
  },
  {
   "cell_type": "markdown",
   "metadata": {},
   "source": [
    "For our data, we will use a stratified shuffle split. The stratification of the data ensures that each k-fold will have the same percentage of fraudulent data as the data set as a whole. This prevents the model from ever receiving and being trained off of a data set with no fraudulent transactions present. If this were the case, our network may simply detect everything as genuine and still have a good evaluation score. shuffling will prevent any one account from being disproportionally present in a fold. As this data was originally linear time data, it is possible one account would be making several hundreds of transactions sequentially. For instance, a company may be restocking all its inventory at once. To avoid this, we will shuffle the data. While 10 splits would have been the best choice, for the sake of computation, we will bound it with 5 folds. \n"
   ]
  },
  {
   "cell_type": "code",
   "execution_count": 10,
   "metadata": {},
   "outputs": [],
   "source": [
    "#first we will divide out our X and Y data\n",
    "y = finData.isFraud\n",
    "finData.drop(columns=['isFraud'], inplace=True)\n",
    "X = finData\n",
    "cv = StratifiedShuffleSplit(n_splits=5, random_state=1) \n",
    "# X_train_set = []\n",
    "# X_test_set = []\n",
    "# y_train_set = []\n",
    "# y_test_set = []\n",
    "# numerical_headers = ['amount', 'oldbalanceOrg', 'oldbalanceDest']\n",
    "# for train_index, test_index in cv.split(X, y): \n",
    "#     X_train, X_test = X[train_index], X[test_index]\n",
    "#     y_train, y_test = y[train_index], y[test_index]\n",
    "#     y_train_set.append(y_train)\n",
    "#     y_test_set.append(y_test)\n",
    "#     for col in numerical_headers: #scale our data\n",
    "#         ss = StandardScaler()\n",
    "#         X_train[col] = ss.fit_transform(df_train[col].values.reshape(-1, 1))\n",
    "#         X_test[col] = ss.transform(df_test[col].values.reshape(-1, 1))\n",
    "#     X_train_set.append(X_train)\n",
    "#     X_test_set.append(X_test)"
   ]
  },
  {
   "cell_type": "code",
   "execution_count": 24,
   "metadata": {},
   "outputs": [
    {
     "name": "stdout",
     "output_type": "stream",
     "text": [
      "(5090096, 6)\n"
     ]
    },
    {
     "data": {
      "text/plain": [
       "(5090096, 6)"
      ]
     },
     "execution_count": 24,
     "metadata": {},
     "output_type": "execute_result"
    }
   ],
   "source": [
    "from keras.models import Sequential\n",
    "from keras.layers import Dense, Activation, Input\n",
    "from keras.layers import Embedding, Flatten, Concatenate\n",
    "from keras.models import Model\n",
    "from sklearn.model_selection import train_test_split\n",
    "from sklearn.preprocessing import OneHotEncoder\n",
    "import scipy\n",
    "X_train, X_test, y_train, y_test = train_test_split(X, y, test_size=0.20)\n",
    "print(X_train.shape)\n",
    "X_train = scipy.sparse.csr_matrix(X_train.values)\n",
    "X_test = scipy.sparse.csr_matrix(X_test.values)\n",
    "y_train = y_train.values\n",
    "y_test = y_test.values\n",
    "X_train.shape"
   ]
  },
  {
   "cell_type": "code",
   "execution_count": 25,
   "metadata": {},
   "outputs": [],
   "source": [
    "inputs = Input(shape=(X_train.shape[1],), sparse=True)\n",
    "\n",
    "# a layer instance is callable on a tensor, and returns a tensor\n",
    "x = Dense(units=10, activation='relu')(inputs)\n",
    "predictions = Dense(1,activation='sigmoid')(x)\n",
    "\n",
    "# This creates a model that includes\n",
    "# the Input layer and three Dense layers\n",
    "model = Model(inputs=inputs, outputs=predictions)"
   ]
  },
  {
   "cell_type": "code",
   "execution_count": null,
   "metadata": {},
   "outputs": [
    {
     "name": "stdout",
     "output_type": "stream",
     "text": [
      "Epoch 1/10\n",
      "3005050/5090096 [================>.............] - ETA: 3:45 - loss: 0.0013 - recall: 9.0227e-04"
     ]
    }
   ],
   "source": [
    "import tensorflow as tf\n",
    "# From Stack Overflow: \n",
    "# https://stackoverflow.com/questions/43076609/how-to-calculate-precision-and-recall-in-keras\n",
    "def as_keras_metric(method):\n",
    "    import functools\n",
    "    from keras import backend as K\n",
    "    import tensorflow as tf\n",
    "    @functools.wraps(method)\n",
    "    def wrapper(self, args, **kwargs):\n",
    "        \"\"\" Wrapper for turning tensorflow metrics into keras metrics \"\"\"\n",
    "        value, update_op = method(self, args, **kwargs)\n",
    "        K.get_session().run(tf.local_variables_initializer())\n",
    "        with tf.control_dependencies([update_op]):\n",
    "            value = tf.identity(value)\n",
    "        return value\n",
    "    return wrapper\n",
    "model.compile(optimizer='sgd',\n",
    "              loss='mean_squared_error',\n",
    "              metrics=[as_keras_metric(tf.metrics.recall)])\n",
    "model.fit(X_train, y_train, epochs=10, batch_size=50, verbose=1)\n",
    "from sklearn import metrics as mt\n",
    "yhat_proba = model.predict(X_test)\n",
    "yhat = np.round(yhat_proba)\n",
    "print(mt.confusion_matrix(y_test,yhat), recall_score(y_test, y_hat, average='macro'))"
   ]
  },
  {
   "cell_type": "code",
   "execution_count": null,
   "metadata": {},
   "outputs": [],
   "source": []
  }
 ],
 "metadata": {
  "kernelspec": {
   "display_name": "Python 3",
   "language": "python",
   "name": "python3"
  },
  "language_info": {
   "codemirror_mode": {
    "name": "ipython",
    "version": 3
   },
   "file_extension": ".py",
   "mimetype": "text/x-python",
   "name": "python",
   "nbconvert_exporter": "python",
   "pygments_lexer": "ipython3",
   "version": "3.6.5"
  }
 },
 "nbformat": 4,
 "nbformat_minor": 2
}
